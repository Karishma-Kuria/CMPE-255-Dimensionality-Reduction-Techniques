{
  "nbformat": 4,
  "nbformat_minor": 0,
  "metadata": {
    "colab": {
      "name": "DimensionalityReduction_For_Tabular_Dataset.ipynb",
      "provenance": [],
      "collapsed_sections": [],
      "authorship_tag": "ABX9TyNoApflMO8zPhIXXT+YDC2c",
      "include_colab_link": true
    },
    "kernelspec": {
      "name": "python3",
      "display_name": "Python 3"
    },
    "language_info": {
      "name": "python"
    }
  },
  "cells": [
    {
      "cell_type": "markdown",
      "metadata": {
        "id": "view-in-github",
        "colab_type": "text"
      },
      "source": [
        "<a href=\"https://colab.research.google.com/github/Karishma-Kuria/CMPE-255-Dimensionality-Reduction-Techniques/blob/main/DimensionalityReduction_For_Tabular_Dataset.ipynb\" target=\"_parent\"><img src=\"https://colab.research.google.com/assets/colab-badge.svg\" alt=\"Open In Colab\"/></a>"
      ]
    },
    {
      "cell_type": "code",
      "metadata": {
        "colab": {
          "base_uri": "https://localhost:8080/",
          "height": 225
        },
        "id": "IcX93JbdJNYu",
        "outputId": "7a0c768e-cb01-4f28-e29f-4e7e0aa83b61"
      },
      "source": [
        "# importing relevant libraries\n",
        "import numpy as np\n",
        "import pandas as pd\n",
        "import seaborn as sns\n",
        "from sklearn import datasets\n",
        "import matplotlib.pyplot as plt\n",
        "from sklearn.decomposition import PCA\n",
        "from sklearn.preprocessing import StandardScaler\n",
        "\n",
        "dataset_path = 'https://github.com/Karishma-Kuria/CMPE-255-Dimensionality-Reduction-Techniques/blob/main/Wine.csv?raw=true'\n",
        "columns = ['class','alcohol', 'malic_acid', 'ash', 'alcalinity_of_ash', 'magnesium',\n",
        "    'total_phenols', 'flavanoids', 'nonflavanoid_phenols',\n",
        "    'proanthocyanins', 'color_intensity', 'hue',\n",
        "    'od280/od315_of_diluted_wines', 'proline']\n",
        "wine_dataset = pd.read_csv(dataset_path, names=columns, header=0)\n",
        "wine_ds = wine_dataset.copy()\n",
        "\n",
        "# Prints top 10 rows of dataset\n",
        "wine_ds.head()\n"
      ],
      "execution_count": 6,
      "outputs": [
        {
          "output_type": "execute_result",
          "data": {
            "text/html": [
              "<div>\n",
              "<style scoped>\n",
              "    .dataframe tbody tr th:only-of-type {\n",
              "        vertical-align: middle;\n",
              "    }\n",
              "\n",
              "    .dataframe tbody tr th {\n",
              "        vertical-align: top;\n",
              "    }\n",
              "\n",
              "    .dataframe thead th {\n",
              "        text-align: right;\n",
              "    }\n",
              "</style>\n",
              "<table border=\"1\" class=\"dataframe\">\n",
              "  <thead>\n",
              "    <tr style=\"text-align: right;\">\n",
              "      <th></th>\n",
              "      <th>class</th>\n",
              "      <th>alcohol</th>\n",
              "      <th>malic_acid</th>\n",
              "      <th>ash</th>\n",
              "      <th>alcalinity_of_ash</th>\n",
              "      <th>magnesium</th>\n",
              "      <th>total_phenols</th>\n",
              "      <th>flavanoids</th>\n",
              "      <th>nonflavanoid_phenols</th>\n",
              "      <th>proanthocyanins</th>\n",
              "      <th>color_intensity</th>\n",
              "      <th>hue</th>\n",
              "      <th>od280/od315_of_diluted_wines</th>\n",
              "      <th>proline</th>\n",
              "    </tr>\n",
              "  </thead>\n",
              "  <tbody>\n",
              "    <tr>\n",
              "      <th>0</th>\n",
              "      <td>1</td>\n",
              "      <td>13.20</td>\n",
              "      <td>1.78</td>\n",
              "      <td>2.14</td>\n",
              "      <td>11.2</td>\n",
              "      <td>100</td>\n",
              "      <td>2.65</td>\n",
              "      <td>2.76</td>\n",
              "      <td>0.26</td>\n",
              "      <td>1.28</td>\n",
              "      <td>4.38</td>\n",
              "      <td>1.05</td>\n",
              "      <td>3.40</td>\n",
              "      <td>1050</td>\n",
              "    </tr>\n",
              "    <tr>\n",
              "      <th>1</th>\n",
              "      <td>1</td>\n",
              "      <td>13.16</td>\n",
              "      <td>2.36</td>\n",
              "      <td>2.67</td>\n",
              "      <td>18.6</td>\n",
              "      <td>101</td>\n",
              "      <td>2.80</td>\n",
              "      <td>3.24</td>\n",
              "      <td>0.30</td>\n",
              "      <td>2.81</td>\n",
              "      <td>5.68</td>\n",
              "      <td>1.03</td>\n",
              "      <td>3.17</td>\n",
              "      <td>1185</td>\n",
              "    </tr>\n",
              "    <tr>\n",
              "      <th>2</th>\n",
              "      <td>1</td>\n",
              "      <td>14.37</td>\n",
              "      <td>1.95</td>\n",
              "      <td>2.50</td>\n",
              "      <td>16.8</td>\n",
              "      <td>113</td>\n",
              "      <td>3.85</td>\n",
              "      <td>3.49</td>\n",
              "      <td>0.24</td>\n",
              "      <td>2.18</td>\n",
              "      <td>7.80</td>\n",
              "      <td>0.86</td>\n",
              "      <td>3.45</td>\n",
              "      <td>1480</td>\n",
              "    </tr>\n",
              "    <tr>\n",
              "      <th>3</th>\n",
              "      <td>1</td>\n",
              "      <td>13.24</td>\n",
              "      <td>2.59</td>\n",
              "      <td>2.87</td>\n",
              "      <td>21.0</td>\n",
              "      <td>118</td>\n",
              "      <td>2.80</td>\n",
              "      <td>2.69</td>\n",
              "      <td>0.39</td>\n",
              "      <td>1.82</td>\n",
              "      <td>4.32</td>\n",
              "      <td>1.04</td>\n",
              "      <td>2.93</td>\n",
              "      <td>735</td>\n",
              "    </tr>\n",
              "    <tr>\n",
              "      <th>4</th>\n",
              "      <td>1</td>\n",
              "      <td>14.20</td>\n",
              "      <td>1.76</td>\n",
              "      <td>2.45</td>\n",
              "      <td>15.2</td>\n",
              "      <td>112</td>\n",
              "      <td>3.27</td>\n",
              "      <td>3.39</td>\n",
              "      <td>0.34</td>\n",
              "      <td>1.97</td>\n",
              "      <td>6.75</td>\n",
              "      <td>1.05</td>\n",
              "      <td>2.85</td>\n",
              "      <td>1450</td>\n",
              "    </tr>\n",
              "  </tbody>\n",
              "</table>\n",
              "</div>"
            ],
            "text/plain": [
              "   class  alcohol  malic_acid  ...   hue  od280/od315_of_diluted_wines  proline\n",
              "0      1    13.20        1.78  ...  1.05                          3.40     1050\n",
              "1      1    13.16        2.36  ...  1.03                          3.17     1185\n",
              "2      1    14.37        1.95  ...  0.86                          3.45     1480\n",
              "3      1    13.24        2.59  ...  1.04                          2.93      735\n",
              "4      1    14.20        1.76  ...  1.05                          2.85     1450\n",
              "\n",
              "[5 rows x 14 columns]"
            ]
          },
          "metadata": {},
          "execution_count": 6
        }
      ]
    },
    {
      "cell_type": "code",
      "metadata": {
        "id": "UYvki1aI5frz"
      },
      "source": [
        "#print(wine_ds.target_names)\n",
        "\n",
        "#iris = datasets.load_wine()\n",
        "#print(iris.target_names)"
      ],
      "execution_count": null,
      "outputs": []
    },
    {
      "cell_type": "code",
      "metadata": {
        "id": "4nqwYVdEKsNZ"
      },
      "source": [
        "wine_ds.describe"
      ],
      "execution_count": null,
      "outputs": []
    },
    {
      "cell_type": "code",
      "metadata": {
        "colab": {
          "base_uri": "https://localhost:8080/"
        },
        "id": "oGDE3cEnkvCt",
        "outputId": "23560a2f-6e2d-40dd-b959-f6075bcd84d0"
      },
      "source": [
        "wine_ds.shape"
      ],
      "execution_count": 28,
      "outputs": [
        {
          "output_type": "execute_result",
          "data": {
            "text/plain": [
              "(177, 14)"
            ]
          },
          "metadata": {},
          "execution_count": 28
        }
      ]
    },
    {
      "cell_type": "markdown",
      "metadata": {
        "id": "PM-u-vK4s266"
      },
      "source": [
        "# **1. Dimensionality Reduction using PCA**"
      ]
    },
    {
      "cell_type": "markdown",
      "metadata": {
        "id": "zitLoVJElX18"
      },
      "source": [
        "## **Calculating Correlation**"
      ]
    },
    {
      "cell_type": "code",
      "metadata": {
        "colab": {
          "base_uri": "https://localhost:8080/",
          "height": 506
        },
        "id": "pBeTBDNflQ8J",
        "outputId": "045d2c57-445c-4895-a64d-da4b0b08e585"
      },
      "source": [
        "wine_ds.corr()"
      ],
      "execution_count": 5,
      "outputs": [
        {
          "output_type": "execute_result",
          "data": {
            "text/html": [
              "<div>\n",
              "<style scoped>\n",
              "    .dataframe tbody tr th:only-of-type {\n",
              "        vertical-align: middle;\n",
              "    }\n",
              "\n",
              "    .dataframe tbody tr th {\n",
              "        vertical-align: top;\n",
              "    }\n",
              "\n",
              "    .dataframe thead th {\n",
              "        text-align: right;\n",
              "    }\n",
              "</style>\n",
              "<table border=\"1\" class=\"dataframe\">\n",
              "  <thead>\n",
              "    <tr style=\"text-align: right;\">\n",
              "      <th></th>\n",
              "      <th>class</th>\n",
              "      <th>alcohol</th>\n",
              "      <th>malic_acid</th>\n",
              "      <th>ash</th>\n",
              "      <th>alcalinity_of_ash</th>\n",
              "      <th>magnesium</th>\n",
              "      <th>total_phenols</th>\n",
              "      <th>flavanoids</th>\n",
              "      <th>nonflavanoid_phenols</th>\n",
              "      <th>proanthocyanins</th>\n",
              "      <th>color_intensity</th>\n",
              "      <th>hue</th>\n",
              "      <th>od280/od315_of_diluted_wines</th>\n",
              "      <th>proline</th>\n",
              "    </tr>\n",
              "  </thead>\n",
              "  <tbody>\n",
              "    <tr>\n",
              "      <th>class</th>\n",
              "      <td>1.000000</td>\n",
              "      <td>-0.321238</td>\n",
              "      <td>0.436127</td>\n",
              "      <td>-0.048260</td>\n",
              "      <td>0.513963</td>\n",
              "      <td>-0.198944</td>\n",
              "      <td>-0.717933</td>\n",
              "      <td>-0.846485</td>\n",
              "      <td>0.487215</td>\n",
              "      <td>-0.494887</td>\n",
              "      <td>0.268562</td>\n",
              "      <td>-0.617690</td>\n",
              "      <td>-0.786428</td>\n",
              "      <td>-0.631227</td>\n",
              "    </tr>\n",
              "    <tr>\n",
              "      <th>alcohol</th>\n",
              "      <td>-0.321238</td>\n",
              "      <td>1.000000</td>\n",
              "      <td>0.099963</td>\n",
              "      <td>0.210964</td>\n",
              "      <td>-0.303350</td>\n",
              "      <td>0.258742</td>\n",
              "      <td>0.284543</td>\n",
              "      <td>0.230133</td>\n",
              "      <td>-0.151445</td>\n",
              "      <td>0.127561</td>\n",
              "      <td>0.547883</td>\n",
              "      <td>-0.075375</td>\n",
              "      <td>0.057417</td>\n",
              "      <td>0.641068</td>\n",
              "    </tr>\n",
              "    <tr>\n",
              "      <th>malic_acid</th>\n",
              "      <td>0.436127</td>\n",
              "      <td>0.099963</td>\n",
              "      <td>1.000000</td>\n",
              "      <td>0.164955</td>\n",
              "      <td>0.286148</td>\n",
              "      <td>-0.049049</td>\n",
              "      <td>-0.333512</td>\n",
              "      <td>-0.409324</td>\n",
              "      <td>0.291501</td>\n",
              "      <td>-0.217975</td>\n",
              "      <td>0.250053</td>\n",
              "      <td>-0.560854</td>\n",
              "      <td>-0.366720</td>\n",
              "      <td>-0.189512</td>\n",
              "    </tr>\n",
              "    <tr>\n",
              "      <th>ash</th>\n",
              "      <td>-0.048260</td>\n",
              "      <td>0.210964</td>\n",
              "      <td>0.164955</td>\n",
              "      <td>1.000000</td>\n",
              "      <td>0.446698</td>\n",
              "      <td>0.287107</td>\n",
              "      <td>0.128176</td>\n",
              "      <td>0.114084</td>\n",
              "      <td>0.187354</td>\n",
              "      <td>0.008082</td>\n",
              "      <td>0.258643</td>\n",
              "      <td>-0.075181</td>\n",
              "      <td>0.001503</td>\n",
              "      <td>0.222979</td>\n",
              "    </tr>\n",
              "    <tr>\n",
              "      <th>alcalinity_of_ash</th>\n",
              "      <td>0.513963</td>\n",
              "      <td>-0.303350</td>\n",
              "      <td>0.286148</td>\n",
              "      <td>0.446698</td>\n",
              "      <td>1.000000</td>\n",
              "      <td>-0.071707</td>\n",
              "      <td>-0.317583</td>\n",
              "      <td>-0.346922</td>\n",
              "      <td>0.359395</td>\n",
              "      <td>-0.190779</td>\n",
              "      <td>0.020478</td>\n",
              "      <td>-0.272719</td>\n",
              "      <td>-0.268186</td>\n",
              "      <td>-0.436858</td>\n",
              "    </tr>\n",
              "    <tr>\n",
              "      <th>magnesium</th>\n",
              "      <td>-0.198944</td>\n",
              "      <td>0.258742</td>\n",
              "      <td>-0.049049</td>\n",
              "      <td>0.287107</td>\n",
              "      <td>-0.071707</td>\n",
              "      <td>1.000000</td>\n",
              "      <td>0.208200</td>\n",
              "      <td>0.187101</td>\n",
              "      <td>-0.252091</td>\n",
              "      <td>0.226504</td>\n",
              "      <td>0.199337</td>\n",
              "      <td>0.052042</td>\n",
              "      <td>0.046961</td>\n",
              "      <td>0.387542</td>\n",
              "    </tr>\n",
              "    <tr>\n",
              "      <th>total_phenols</th>\n",
              "      <td>-0.717933</td>\n",
              "      <td>0.284543</td>\n",
              "      <td>-0.333512</td>\n",
              "      <td>0.128176</td>\n",
              "      <td>-0.317583</td>\n",
              "      <td>0.208200</td>\n",
              "      <td>1.000000</td>\n",
              "      <td>0.864046</td>\n",
              "      <td>-0.448301</td>\n",
              "      <td>0.610533</td>\n",
              "      <td>-0.056401</td>\n",
              "      <td>0.432987</td>\n",
              "      <td>0.699566</td>\n",
              "      <td>0.495839</td>\n",
              "    </tr>\n",
              "    <tr>\n",
              "      <th>flavanoids</th>\n",
              "      <td>-0.846485</td>\n",
              "      <td>0.230133</td>\n",
              "      <td>-0.409324</td>\n",
              "      <td>0.114084</td>\n",
              "      <td>-0.346922</td>\n",
              "      <td>0.187101</td>\n",
              "      <td>0.864046</td>\n",
              "      <td>1.000000</td>\n",
              "      <td>-0.536326</td>\n",
              "      <td>0.650254</td>\n",
              "      <td>-0.174411</td>\n",
              "      <td>0.543208</td>\n",
              "      <td>0.786372</td>\n",
              "      <td>0.491180</td>\n",
              "    </tr>\n",
              "    <tr>\n",
              "      <th>nonflavanoid_phenols</th>\n",
              "      <td>0.487215</td>\n",
              "      <td>-0.151445</td>\n",
              "      <td>0.291501</td>\n",
              "      <td>0.187354</td>\n",
              "      <td>0.359395</td>\n",
              "      <td>-0.252091</td>\n",
              "      <td>-0.448301</td>\n",
              "      <td>-0.536326</td>\n",
              "      <td>1.000000</td>\n",
              "      <td>-0.363268</td>\n",
              "      <td>0.140192</td>\n",
              "      <td>-0.261709</td>\n",
              "      <td>-0.501859</td>\n",
              "      <td>-0.308886</td>\n",
              "    </tr>\n",
              "    <tr>\n",
              "      <th>proanthocyanins</th>\n",
              "      <td>-0.494887</td>\n",
              "      <td>0.127561</td>\n",
              "      <td>-0.217975</td>\n",
              "      <td>0.008082</td>\n",
              "      <td>-0.190779</td>\n",
              "      <td>0.226504</td>\n",
              "      <td>0.610533</td>\n",
              "      <td>0.650254</td>\n",
              "      <td>-0.363268</td>\n",
              "      <td>1.000000</td>\n",
              "      <td>-0.027112</td>\n",
              "      <td>0.294397</td>\n",
              "      <td>0.513415</td>\n",
              "      <td>0.325731</td>\n",
              "    </tr>\n",
              "    <tr>\n",
              "      <th>color_intensity</th>\n",
              "      <td>0.268562</td>\n",
              "      <td>0.547883</td>\n",
              "      <td>0.250053</td>\n",
              "      <td>0.258643</td>\n",
              "      <td>0.020478</td>\n",
              "      <td>0.199337</td>\n",
              "      <td>-0.056401</td>\n",
              "      <td>-0.174411</td>\n",
              "      <td>0.140192</td>\n",
              "      <td>-0.027112</td>\n",
              "      <td>1.000000</td>\n",
              "      <td>-0.522615</td>\n",
              "      <td>-0.435744</td>\n",
              "      <td>0.315632</td>\n",
              "    </tr>\n",
              "    <tr>\n",
              "      <th>hue</th>\n",
              "      <td>-0.617690</td>\n",
              "      <td>-0.075375</td>\n",
              "      <td>-0.560854</td>\n",
              "      <td>-0.075181</td>\n",
              "      <td>-0.272719</td>\n",
              "      <td>0.052042</td>\n",
              "      <td>0.432987</td>\n",
              "      <td>0.543208</td>\n",
              "      <td>-0.261709</td>\n",
              "      <td>0.294397</td>\n",
              "      <td>-0.522615</td>\n",
              "      <td>1.000000</td>\n",
              "      <td>0.567395</td>\n",
              "      <td>0.234879</td>\n",
              "    </tr>\n",
              "    <tr>\n",
              "      <th>od280/od315_of_diluted_wines</th>\n",
              "      <td>-0.786428</td>\n",
              "      <td>0.057417</td>\n",
              "      <td>-0.366720</td>\n",
              "      <td>0.001503</td>\n",
              "      <td>-0.268186</td>\n",
              "      <td>0.046961</td>\n",
              "      <td>0.699566</td>\n",
              "      <td>0.786372</td>\n",
              "      <td>-0.501859</td>\n",
              "      <td>0.513415</td>\n",
              "      <td>-0.435744</td>\n",
              "      <td>0.567395</td>\n",
              "      <td>1.000000</td>\n",
              "      <td>0.306031</td>\n",
              "    </tr>\n",
              "    <tr>\n",
              "      <th>proline</th>\n",
              "      <td>-0.631227</td>\n",
              "      <td>0.641068</td>\n",
              "      <td>-0.189512</td>\n",
              "      <td>0.222979</td>\n",
              "      <td>-0.436858</td>\n",
              "      <td>0.387542</td>\n",
              "      <td>0.495839</td>\n",
              "      <td>0.491180</td>\n",
              "      <td>-0.308886</td>\n",
              "      <td>0.325731</td>\n",
              "      <td>0.315632</td>\n",
              "      <td>0.234879</td>\n",
              "      <td>0.306031</td>\n",
              "      <td>1.000000</td>\n",
              "    </tr>\n",
              "  </tbody>\n",
              "</table>\n",
              "</div>"
            ],
            "text/plain": [
              "                                 class  ...   proline\n",
              "class                         1.000000  ... -0.631227\n",
              "alcohol                      -0.321238  ...  0.641068\n",
              "malic_acid                    0.436127  ... -0.189512\n",
              "ash                          -0.048260  ...  0.222979\n",
              "alcalinity_of_ash             0.513963  ... -0.436858\n",
              "magnesium                    -0.198944  ...  0.387542\n",
              "total_phenols                -0.717933  ...  0.495839\n",
              "flavanoids                   -0.846485  ...  0.491180\n",
              "nonflavanoid_phenols          0.487215  ... -0.308886\n",
              "proanthocyanins              -0.494887  ...  0.325731\n",
              "color_intensity               0.268562  ...  0.315632\n",
              "hue                          -0.617690  ...  0.234879\n",
              "od280/od315_of_diluted_wines -0.786428  ...  0.306031\n",
              "proline                      -0.631227  ...  1.000000\n",
              "\n",
              "[14 rows x 14 columns]"
            ]
          },
          "metadata": {},
          "execution_count": 5
        }
      ]
    },
    {
      "cell_type": "markdown",
      "metadata": {
        "id": "Z838EmsvlhIY"
      },
      "source": [
        "### The above table shows the correlation between all the pairs. If the correlation is positive, it means if one variable increases the other variable also increases. Negative means if one variable decreases the other also decreases. "
      ]
    },
    {
      "cell_type": "code",
      "metadata": {
        "id": "AL5_PbjzgEWr"
      },
      "source": [
        "X_variables = wine_ds.iloc[:,1:14]\n",
        "X_variables"
      ],
      "execution_count": null,
      "outputs": []
    },
    {
      "cell_type": "code",
      "metadata": {
        "id": "NIDTCbQMmTS0"
      },
      "source": [
        "\n",
        "y_variable = wine_ds.iloc[:,13]\n",
        "y_variable"
      ],
      "execution_count": null,
      "outputs": []
    },
    {
      "cell_type": "code",
      "metadata": {
        "colab": {
          "base_uri": "https://localhost:8080/"
        },
        "id": "UuePAW1XEHNg",
        "outputId": "bc3288da-2285-4c75-a21b-f2a743e1f8a9"
      },
      "source": [
        "wine_ds.shape"
      ],
      "execution_count": 7,
      "outputs": [
        {
          "output_type": "execute_result",
          "data": {
            "text/plain": [
              "(177, 14)"
            ]
          },
          "metadata": {},
          "execution_count": 7
        }
      ]
    },
    {
      "cell_type": "markdown",
      "metadata": {
        "id": "RDAtkVrrnMp7"
      },
      "source": [
        "## **Visualizing the Correlation**"
      ]
    },
    {
      "cell_type": "code",
      "metadata": {
        "id": "2fnue-yRnRIy"
      },
      "source": [
        "correlation = wine_ds.corr()\n",
        "plt.figure(figsize=(10,10))\n",
        "sns.heatmap(correlation, vmax=1, square=True,annot=True,cmap='cubehelix')\n",
        "\n",
        "plt.title('Correlation between various fearures of the dataset')"
      ],
      "execution_count": null,
      "outputs": []
    },
    {
      "cell_type": "code",
      "metadata": {
        "id": "6Dc-L_cRnyfW"
      },
      "source": [
        "# I have dropped the last 2 columns\n",
        "#ds_drop=hr_ds.drop(labels=['sales','salary'],axis=1)\n",
        "#ds_drop.head()"
      ],
      "execution_count": 84,
      "outputs": []
    },
    {
      "cell_type": "markdown",
      "metadata": {
        "id": "awPGnfyMonYf"
      },
      "source": [
        "## **Standarizing**\n",
        "This process shifts the distribution of all the variables in the dataset to a mean of 0 and standard deviation of 1."
      ]
    },
    {
      "cell_type": "code",
      "metadata": {
        "id": "TLvfEmrwomop"
      },
      "source": [
        "# Used the standard scaler method to convert the values into integers between -3 and +3\n",
        "scaler = StandardScaler()\n",
        "transformed_ds = scaler.fit_transform(X_variables)"
      ],
      "execution_count": 9,
      "outputs": []
    },
    {
      "cell_type": "markdown",
      "metadata": {
        "id": "-VbvrY2epoVy"
      },
      "source": [
        "## **Creating Covariance Matrix**"
      ]
    },
    {
      "cell_type": "code",
      "metadata": {
        "id": "vC3fWDmFpyRc"
      },
      "source": [
        "covariance_matrix = np.cov(transformed_ds.T)\n",
        "print(\"The Covariance Matrix is \\n\", covariance_matrix)"
      ],
      "execution_count": null,
      "outputs": []
    },
    {
      "cell_type": "markdown",
      "metadata": {
        "id": "-mE2y4KCql51"
      },
      "source": [
        "## **Plotting the Covariance between pairs.**"
      ]
    },
    {
      "cell_type": "code",
      "metadata": {
        "id": "YSbJjSGjqZoB"
      },
      "source": [
        "plt.figure(figsize=(8,8))\n",
        "sns.heatmap(covariance_matrix, vmax=1, square=True,annot=True,cmap='cubehelix')\n",
        "\n",
        "plt.title('Correlation between different features')\n"
      ],
      "execution_count": null,
      "outputs": []
    },
    {
      "cell_type": "markdown",
      "metadata": {
        "id": "xP1PaNEGrSKm"
      },
      "source": [
        "## **Calculating the Eigen Values and Eigen Vectors.**"
      ]
    },
    {
      "cell_type": "code",
      "metadata": {
        "id": "pUy7WqWora33"
      },
      "source": [
        "eigen_values, eigen_vectors = np.linalg.eig(covariance_matrix)\n",
        "print('Eigenvectors \\n%s' %eigen_vectors)\n",
        "print('\\nEigenvalues \\n%s' %eigen_values)"
      ],
      "execution_count": null,
      "outputs": []
    },
    {
      "cell_type": "markdown",
      "metadata": {
        "id": "L1ObkszFr5WZ"
      },
      "source": [
        "## **Selecting Priciple component:**\n",
        "### Now I have sorted the Eigen Values in descending order. The Eigen Vector with the least Eigen Value will hold the least information about the distribution and can dropped to reduce the dimensionality. "
      ]
    },
    {
      "cell_type": "code",
      "metadata": {
        "id": "RRasEdCnsqAr"
      },
      "source": [
        "eigen_pairs = [(np.abs(eigen_values[i]), eigen_vectors[:,i]) for i in range(len(eigen_values))]\n",
        "print('Eigenvalues arranged in descending order:')\n",
        "for i in eigen_pairs:\n",
        "    print(i[0])"
      ],
      "execution_count": null,
      "outputs": []
    },
    {
      "cell_type": "markdown",
      "metadata": {
        "id": "o1HrNkc2tHuw"
      },
      "source": [
        "## **Applying PCA**"
      ]
    },
    {
      "cell_type": "code",
      "metadata": {
        "id": "IDHdJFUZtLMM"
      },
      "source": [
        "pca = PCA()\n",
        "pca = pca.fit(transformed_ds)\n",
        "pca_explained_variance = pca.explained_variance_ratio_\n",
        "pca_explained_variance"
      ],
      "execution_count": null,
      "outputs": []
    },
    {
      "cell_type": "markdown",
      "metadata": {
        "id": "BbSNs_Dpt1RJ"
      },
      "source": [
        "## **Plotting variance and Principle Components**"
      ]
    },
    {
      "cell_type": "code",
      "metadata": {
        "colab": {
          "base_uri": "https://localhost:8080/",
          "height": 279
        },
        "id": "8A2soVNVt7XC",
        "outputId": "645686fa-e2d1-4c31-8d65-92c910c16178"
      },
      "source": [
        "dataframe = pd.DataFrame({'variance':pca.explained_variance_ratio_,\n",
        "             'Principal Component':['PC1','PC2','PC3','PC4', 'PC5','PC6','PC7',\n",
        "                                    'PC8','PC9','PC10','PC11', 'PC12','PC13']})\n",
        "sns.barplot(x='Principal Component',y=\"variance\", \n",
        "           data=dataframe, color=\"b\");"
      ],
      "execution_count": 16,
      "outputs": [
        {
          "output_type": "display_data",
          "data": {
            "image/png": "[encoded data removed]",
            "text/plain": [
              "<Figure size 432x288 with 1 Axes>"
            ]
          },
          "metadata": {
            "needs_background": "light"
          }
        }
      ]
    },
    {
      "cell_type": "markdown",
      "metadata": {
        "id": "QxLHHqWBwLOh"
      },
      "source": [
        "### The above bar graph shows that the first 2 variables holds the maximum information about the distribution as compared to the rest of the variables."
      ]
    },
    {
      "cell_type": "code",
      "metadata": {
        "colab": {
          "base_uri": "https://localhost:8080/",
          "height": 296
        },
        "id": "W_NUlEFZu0l8",
        "outputId": "48074a80-50f4-4159-bd5f-24b653572130"
      },
      "source": [
        "plt.plot(np.cumsum(pca.explained_variance_ratio_))\n",
        "plt.xlim(0,16,1)\n",
        "plt.xlabel('Number of components')\n",
        "plt.ylabel('Cumulative explained variance')"
      ],
      "execution_count": 17,
      "outputs": [
        {
          "output_type": "execute_result",
          "data": {
            "text/plain": [
              "Text(0, 0.5, 'Cumulative explained variance')"
            ]
          },
          "metadata": {},
          "execution_count": 17
        },
        {
          "output_type": "display_data",
          "data": {
            "image/png": "[encoded data removed]",
            "text/plain": [
              "<Figure size 432x288 with 1 Axes>"
            ]
          },
          "metadata": {
            "needs_background": "light"
          }
        }
      ]
    },
    {
      "cell_type": "markdown",
      "metadata": {
        "id": "yXLqFxO2wgJb"
      },
      "source": [
        "### From the above graph its clear that, 90% variance is covered till the 12th variable and hence we can drop the last feature."
      ]
    },
    {
      "cell_type": "code",
      "metadata": {
        "colab": {
          "base_uri": "https://localhost:8080/",
          "height": 391
        },
        "id": "0rFcQN5cw9mn",
        "outputId": "a8a4d73d-5105-4b23-b441-04a446309c2c"
      },
      "source": [
        "pca_2 = PCA(n_components = 2 )\n",
        "pca_2 = pca_2.fit(transformed_ds)\n",
        "pca_2d = pca_2.transform(X_variables)\n",
        "plt.figure(figsize=(8,6))\n",
        "wine_ds['class'] = wine_ds['class'].replace({0:0, 1:1})\n",
        "\n",
        "plt.figure(figsize=(8,6))\n",
        "plt.scatter(pca_2d[:,0], pca_2d[:,1],c=wine_ds['class'])\n",
        "plt.show()"
      ],
      "execution_count": 18,
      "outputs": [
        {
          "output_type": "display_data",
          "data": {
            "text/plain": [
              "<Figure size 576x432 with 0 Axes>"
            ]
          },
          "metadata": {}
        },
        {
          "output_type": "display_data",
          "data": {
            "image/png": "[encoded data removed]",
            "text/plain": [
              "<Figure size 576x432 with 1 Axes>"
            ]
          },
          "metadata": {
            "needs_background": "light"
          }
        }
      ]
    },
    {
      "cell_type": "code",
      "metadata": {
        "colab": {
          "base_uri": "https://localhost:8080/",
          "height": 205
        },
        "id": "1eyR9k8U3ggq",
        "outputId": "1f3f165a-9939-4f21-c439-ca5fe701880b"
      },
      "source": [
        "# Creating a dataframe featuring the two Principal components that we acquired through PCA.\n",
        "PCA_dataset1 = pd.DataFrame(data = pca_2d, columns = ['component1', 'component2'] )\n",
        "PCA_dataset1.head()"
      ],
      "execution_count": 19,
      "outputs": [
        {
          "output_type": "execute_result",
          "data": {
            "text/html": [
              "<div>\n",
              "<style scoped>\n",
              "    .dataframe tbody tr th:only-of-type {\n",
              "        vertical-align: middle;\n",
              "    }\n",
              "\n",
              "    .dataframe tbody tr th {\n",
              "        vertical-align: top;\n",
              "    }\n",
              "\n",
              "    .dataframe thead th {\n",
              "        text-align: right;\n",
              "    }\n",
              "</style>\n",
              "<table border=\"1\" class=\"dataframe\">\n",
              "  <thead>\n",
              "    <tr style=\"text-align: right;\">\n",
              "      <th></th>\n",
              "      <th>component1</th>\n",
              "      <th>component2</th>\n",
              "    </tr>\n",
              "  </thead>\n",
              "  <tbody>\n",
              "    <tr>\n",
              "      <th>0</th>\n",
              "      <td>314.440340</td>\n",
              "      <td>-427.103904</td>\n",
              "    </tr>\n",
              "    <tr>\n",
              "      <th>1</th>\n",
              "      <td>351.561659</td>\n",
              "      <td>-478.283964</td>\n",
              "    </tr>\n",
              "    <tr>\n",
              "      <th>2</th>\n",
              "      <td>437.940024</td>\n",
              "      <td>-592.533107</td>\n",
              "    </tr>\n",
              "    <tr>\n",
              "      <th>3</th>\n",
              "      <td>224.783342</td>\n",
              "      <td>-316.499425</td>\n",
              "    </tr>\n",
              "    <tr>\n",
              "      <th>4</th>\n",
              "      <td>429.240887</td>\n",
              "      <td>-580.471093</td>\n",
              "    </tr>\n",
              "  </tbody>\n",
              "</table>\n",
              "</div>"
            ],
            "text/plain": [
              "   component1  component2\n",
              "0  314.440340 -427.103904\n",
              "1  351.561659 -478.283964\n",
              "2  437.940024 -592.533107\n",
              "3  224.783342 -316.499425\n",
              "4  429.240887 -580.471093"
            ]
          },
          "metadata": {},
          "execution_count": 19
        }
      ]
    },
    {
      "cell_type": "code",
      "metadata": {
        "id": "WWksyoqF3pO3"
      },
      "source": [
        "# Extracting the two features from above in order to add them to the dataframe.\n",
        "principal_component1 = PCA_dataset1['component1']\n",
        "principal_component2 = PCA_dataset1['component2']"
      ],
      "execution_count": 70,
      "outputs": []
    },
    {
      "cell_type": "code",
      "metadata": {
        "colab": {
          "base_uri": "https://localhost:8080/",
          "height": 655
        },
        "id": "Z5u-cBgU3trs",
        "outputId": "9cc5ad64-fa67-4e9b-8340-31110dbc5e3f"
      },
      "source": [
        "# Visualizing the effects of the Principal Component Analysis.\n",
        "plt.figure()\n",
        "plt.figure(figsize=(10,10))\n",
        "plt.xlabel('Component 1')\n",
        "plt.ylabel('Component 2')\n",
        "plt.title('2 Component PCA')\n",
        "plt.scatter(PCA_dataset1['component1'], PCA_dataset1['component2'])"
      ],
      "execution_count": 20,
      "outputs": [
        {
          "output_type": "execute_result",
          "data": {
            "text/plain": [
              "<matplotlib.collections.PathCollection at 0x7f7b09ef1d10>"
            ]
          },
          "metadata": {},
          "execution_count": 20
        },
        {
          "output_type": "display_data",
          "data": {
            "text/plain": [
              "<Figure size 432x288 with 0 Axes>"
            ]
          },
          "metadata": {}
        },
        {
          "output_type": "display_data",
          "data": {
            "image/png": "[encoded data removed]",
            "text/plain": [
              "<Figure size 720x720 with 1 Axes>"
            ]
          },
          "metadata": {
            "needs_background": "light"
          }
        }
      ]
    },
    {
      "cell_type": "code",
      "metadata": {
        "colab": {
          "base_uri": "https://localhost:8080/"
        },
        "id": "D2jZyXy4IpiR",
        "outputId": "b2a8cd3d-0b79-4317-f706-5b35b59c8437"
      },
      "source": [
        "pca_2d.shape"
      ],
      "execution_count": 21,
      "outputs": [
        {
          "output_type": "execute_result",
          "data": {
            "text/plain": [
              "(177, 2)"
            ]
          },
          "metadata": {},
          "execution_count": 21
        }
      ]
    },
    {
      "cell_type": "markdown",
      "metadata": {
        "id": "lvLkihlcGhzt"
      },
      "source": [
        "# **2.Dimensionality Reduction using SVD**"
      ]
    },
    {
      "cell_type": "code",
      "metadata": {
        "colab": {
          "base_uri": "https://localhost:8080/",
          "height": 225
        },
        "id": "WNuCZ4Y4GqH9",
        "outputId": "db0e3cf3-59ab-49fa-cb49-459b9d70f984"
      },
      "source": [
        "from sklearn.preprocessing import LabelEncoder, StandardScaler\n",
        "\n",
        "# Using the same dataset \n",
        "# Prints top 10 rows of dataset\n",
        "wine_ds.head()"
      ],
      "execution_count": 79,
      "outputs": [
        {
          "output_type": "execute_result",
          "data": {
            "text/html": [
              "<div>\n",
              "<style scoped>\n",
              "    .dataframe tbody tr th:only-of-type {\n",
              "        vertical-align: middle;\n",
              "    }\n",
              "\n",
              "    .dataframe tbody tr th {\n",
              "        vertical-align: top;\n",
              "    }\n",
              "\n",
              "    .dataframe thead th {\n",
              "        text-align: right;\n",
              "    }\n",
              "</style>\n",
              "<table border=\"1\" class=\"dataframe\">\n",
              "  <thead>\n",
              "    <tr style=\"text-align: right;\">\n",
              "      <th></th>\n",
              "      <th>class</th>\n",
              "      <th>alcohol</th>\n",
              "      <th>malic_acid</th>\n",
              "      <th>ash</th>\n",
              "      <th>alcalinity_of_ash</th>\n",
              "      <th>magnesium</th>\n",
              "      <th>total_phenols</th>\n",
              "      <th>flavanoids</th>\n",
              "      <th>nonflavanoid_phenols</th>\n",
              "      <th>proanthocyanins</th>\n",
              "      <th>color_intensity</th>\n",
              "      <th>hue</th>\n",
              "      <th>od280/od315_of_diluted_wines</th>\n",
              "      <th>proline</th>\n",
              "    </tr>\n",
              "  </thead>\n",
              "  <tbody>\n",
              "    <tr>\n",
              "      <th>0</th>\n",
              "      <td>0</td>\n",
              "      <td>65</td>\n",
              "      <td>49</td>\n",
              "      <td>18</td>\n",
              "      <td>1</td>\n",
              "      <td>21</td>\n",
              "      <td>68</td>\n",
              "      <td>91</td>\n",
              "      <td>9</td>\n",
              "      <td>31</td>\n",
              "      <td>56</td>\n",
              "      <td>50</td>\n",
              "      <td>102</td>\n",
              "      <td>92</td>\n",
              "    </tr>\n",
              "    <tr>\n",
              "      <th>1</th>\n",
              "      <td>0</td>\n",
              "      <td>63</td>\n",
              "      <td>71</td>\n",
              "      <td>62</td>\n",
              "      <td>31</td>\n",
              "      <td>22</td>\n",
              "      <td>73</td>\n",
              "      <td>114</td>\n",
              "      <td>13</td>\n",
              "      <td>96</td>\n",
              "      <td>82</td>\n",
              "      <td>48</td>\n",
              "      <td>86</td>\n",
              "      <td>101</td>\n",
              "    </tr>\n",
              "    <tr>\n",
              "      <th>2</th>\n",
              "      <td>0</td>\n",
              "      <td>120</td>\n",
              "      <td>59</td>\n",
              "      <td>48</td>\n",
              "      <td>20</td>\n",
              "      <td>33</td>\n",
              "      <td>95</td>\n",
              "      <td>121</td>\n",
              "      <td>7</td>\n",
              "      <td>84</td>\n",
              "      <td>108</td>\n",
              "      <td>30</td>\n",
              "      <td>104</td>\n",
              "      <td>116</td>\n",
              "    </tr>\n",
              "    <tr>\n",
              "      <th>3</th>\n",
              "      <td>0</td>\n",
              "      <td>67</td>\n",
              "      <td>81</td>\n",
              "      <td>74</td>\n",
              "      <td>44</td>\n",
              "      <td>37</td>\n",
              "      <td>73</td>\n",
              "      <td>89</td>\n",
              "      <td>20</td>\n",
              "      <td>66</td>\n",
              "      <td>53</td>\n",
              "      <td>49</td>\n",
              "      <td>73</td>\n",
              "      <td>66</td>\n",
              "    </tr>\n",
              "    <tr>\n",
              "      <th>4</th>\n",
              "      <td>0</td>\n",
              "      <td>115</td>\n",
              "      <td>47</td>\n",
              "      <td>45</td>\n",
              "      <td>10</td>\n",
              "      <td>32</td>\n",
              "      <td>89</td>\n",
              "      <td>119</td>\n",
              "      <td>17</td>\n",
              "      <td>75</td>\n",
              "      <td>96</td>\n",
              "      <td>50</td>\n",
              "      <td>68</td>\n",
              "      <td>115</td>\n",
              "    </tr>\n",
              "  </tbody>\n",
              "</table>\n",
              "</div>"
            ],
            "text/plain": [
              "   class  alcohol  malic_acid  ...  hue  od280/od315_of_diluted_wines  proline\n",
              "0      0       65          49  ...   50                           102       92\n",
              "1      0       63          71  ...   48                            86      101\n",
              "2      0      120          59  ...   30                           104      116\n",
              "3      0       67          81  ...   49                            73       66\n",
              "4      0      115          47  ...   50                            68      115\n",
              "\n",
              "[5 rows x 14 columns]"
            ]
          },
          "metadata": {},
          "execution_count": 79
        }
      ]
    },
    {
      "cell_type": "code",
      "metadata": {
        "colab": {
          "base_uri": "https://localhost:8080/"
        },
        "id": "mRbBxB5ANIp2",
        "outputId": "29555952-ed41-4269-8c10-c1bf2449adf0"
      },
      "source": [
        "wine_ds.shape"
      ],
      "execution_count": 49,
      "outputs": [
        {
          "output_type": "execute_result",
          "data": {
            "text/plain": [
              "(177, 14)"
            ]
          },
          "metadata": {},
          "execution_count": 49
        }
      ]
    },
    {
      "cell_type": "markdown",
      "metadata": {
        "id": "Bu_aWDv96aIG"
      },
      "source": [
        "### Here I have invoked LabelEncoder and applied it to all the columns in the dataset. This will convert all categorical columns into numerical columns using one-hot encoding technique."
      ]
    },
    {
      "cell_type": "code",
      "metadata": {
        "id": "iZPfsxzDNkb2"
      },
      "source": [
        "encoder = LabelEncoder()\n",
        "for col in wine_ds.columns:\n",
        "    wine_ds[col] = encoder.fit_transform(wine_ds[col])"
      ],
      "execution_count": 66,
      "outputs": []
    },
    {
      "cell_type": "markdown",
      "metadata": {
        "id": "de5YvvKp7A7K"
      },
      "source": [
        "### Now I have checked the converted numerical columns in dataset"
      ]
    },
    {
      "cell_type": "code",
      "metadata": {
        "id": "x4Igj49X69kl"
      },
      "source": [
        "wine_ds.head()"
      ],
      "execution_count": null,
      "outputs": []
    },
    {
      "cell_type": "markdown",
      "metadata": {
        "id": "2SZpIXnl7RKA"
      },
      "source": [
        "### Here I have divided the dataset into X-variable and Y-variable and then normalized both."
      ]
    },
    {
      "cell_type": "code",
      "metadata": {
        "id": "JwDwXtbNN5Gz"
      },
      "source": [
        "X_variables = wine_ds.iloc[:,1:10]\n",
        "y_label = wine_ds.iloc[:, 0]"
      ],
      "execution_count": 70,
      "outputs": []
    },
    {
      "cell_type": "code",
      "metadata": {
        "id": "7dg0a275N8o2"
      },
      "source": [
        "scaler = StandardScaler()\n",
        "X_features = scaler.fit_transform(X_variables)"
      ],
      "execution_count": 68,
      "outputs": []
    },
    {
      "cell_type": "markdown",
      "metadata": {
        "id": "Z8V2RHFD7r9v"
      },
      "source": [
        "### Applied SVD, here u and v are singular vectors and s is singular value."
      ]
    },
    {
      "cell_type": "code",
      "metadata": {
        "id": "p_Z-csuQOA5y"
      },
      "source": [
        "u, s, v = np.linalg.svd(X_features, full_matrices=True)"
      ],
      "execution_count": 56,
      "outputs": []
    },
    {
      "cell_type": "code",
      "metadata": {
        "colab": {
          "base_uri": "https://localhost:8080/"
        },
        "id": "-mV_1btEOENT",
        "outputId": "bc9db147-e89b-49b4-aa70-6387cfaca5fc"
      },
      "source": [
        "u.shape"
      ],
      "execution_count": 57,
      "outputs": [
        {
          "output_type": "execute_result",
          "data": {
            "text/plain": [
              "(177, 177)"
            ]
          },
          "metadata": {},
          "execution_count": 57
        }
      ]
    },
    {
      "cell_type": "code",
      "metadata": {
        "colab": {
          "base_uri": "https://localhost:8080/"
        },
        "id": "8cXNpeXrOM01",
        "outputId": "e28584c1-1bee-459c-e6b3-d748a54e00b0"
      },
      "source": [
        "s.shape"
      ],
      "execution_count": 58,
      "outputs": [
        {
          "output_type": "execute_result",
          "data": {
            "text/plain": [
              "(9,)"
            ]
          },
          "metadata": {},
          "execution_count": 58
        }
      ]
    },
    {
      "cell_type": "code",
      "metadata": {
        "colab": {
          "base_uri": "https://localhost:8080/"
        },
        "id": "mmw_C9idOOCd",
        "outputId": "6e7e38ee-b378-4a27-a481-9b23699ceaa3"
      },
      "source": [
        "v.shape"
      ],
      "execution_count": 59,
      "outputs": [
        {
          "output_type": "execute_result",
          "data": {
            "text/plain": [
              "(9, 9)"
            ]
          },
          "metadata": {},
          "execution_count": 59
        }
      ]
    },
    {
      "cell_type": "markdown",
      "metadata": {
        "id": "Z5bForGH8GWL"
      },
      "source": [
        "### Here I have analyzed and plotted the variance explained by each singular vector in a bsr graph."
      ]
    },
    {
      "cell_type": "code",
      "metadata": {
        "colab": {
          "base_uri": "https://localhost:8080/",
          "height": 319
        },
        "id": "akZurK8AOfU9",
        "outputId": "e9e3f1da-5281-426b-8bbc-d3b2a866bed1"
      },
      "source": [
        "variance_explained = np.round(s**2/np.sum(s**2), decimals=3)\n",
        "variance_explained\n",
        " \n",
        "sns.barplot(x=list(range(1,len(variance_explained)+1)),\n",
        "            y=variance_explained, color=\"blue\")\n",
        "plt.xlabel('SVs', fontsize=16)\n",
        "plt.ylabel('Percent of the variance explained', fontsize=15)"
      ],
      "execution_count": 71,
      "outputs": [
        {
          "output_type": "execute_result",
          "data": {
            "text/plain": [
              "Text(0, 0.5, 'Percent of the variance explained')"
            ]
          },
          "metadata": {},
          "execution_count": 71
        },
        {
          "output_type": "display_data",
          "data": {
            "image/png": "[encoded data removed]",
            "text/plain": [
              "<Figure size 432x288 with 1 Axes>"
            ]
          },
          "metadata": {
            "needs_background": "light"
          }
        }
      ]
    },
    {
      "cell_type": "markdown",
      "metadata": {
        "id": "DKuL1Tas8d0R"
      },
      "source": [
        "### Creating the new dataframe which contains the 2 singular vectors and the metadata."
      ]
    },
    {
      "cell_type": "code",
      "metadata": {
        "colab": {
          "base_uri": "https://localhost:8080/",
          "height": 205
        },
        "id": "4SDSsivfYi6-",
        "outputId": "6261274b-57cb-4ef9-8849-5c87027dd086"
      },
      "source": [
        "col_labels= ['SV'+str(i) for i in range(1,3)]\n",
        "svd_df = pd.DataFrame(u[:,0:2], index=wine_ds[\"class\"].tolist(), columns=col_labels)\n",
        "svd_df=svd_df.reset_index()\n",
        "svd_df.rename(columns={'index':'Class'}, inplace=True)\n",
        "svd_df.head()"
      ],
      "execution_count": 72,
      "outputs": [
        {
          "output_type": "execute_result",
          "data": {
            "text/html": [
              "<div>\n",
              "<style scoped>\n",
              "    .dataframe tbody tr th:only-of-type {\n",
              "        vertical-align: middle;\n",
              "    }\n",
              "\n",
              "    .dataframe tbody tr th {\n",
              "        vertical-align: top;\n",
              "    }\n",
              "\n",
              "    .dataframe thead th {\n",
              "        text-align: right;\n",
              "    }\n",
              "</style>\n",
              "<table border=\"1\" class=\"dataframe\">\n",
              "  <thead>\n",
              "    <tr style=\"text-align: right;\">\n",
              "      <th></th>\n",
              "      <th>Class</th>\n",
              "      <th>SV1</th>\n",
              "      <th>SV2</th>\n",
              "    </tr>\n",
              "  </thead>\n",
              "  <tbody>\n",
              "    <tr>\n",
              "      <th>0</th>\n",
              "      <td>0</td>\n",
              "      <td>-0.063013</td>\n",
              "      <td>-0.078817</td>\n",
              "    </tr>\n",
              "    <tr>\n",
              "      <th>1</th>\n",
              "      <td>0</td>\n",
              "      <td>-0.079689</td>\n",
              "      <td>0.061589</td>\n",
              "    </tr>\n",
              "    <tr>\n",
              "      <th>2</th>\n",
              "      <td>0</td>\n",
              "      <td>-0.135112</td>\n",
              "      <td>0.072540</td>\n",
              "    </tr>\n",
              "    <tr>\n",
              "      <th>3</th>\n",
              "      <td>0</td>\n",
              "      <td>-0.034945</td>\n",
              "      <td>0.140693</td>\n",
              "    </tr>\n",
              "    <tr>\n",
              "      <th>4</th>\n",
              "      <td>0</td>\n",
              "      <td>-0.119662</td>\n",
              "      <td>0.049405</td>\n",
              "    </tr>\n",
              "  </tbody>\n",
              "</table>\n",
              "</div>"
            ],
            "text/plain": [
              "   Class       SV1       SV2\n",
              "0      0 -0.063013 -0.078817\n",
              "1      0 -0.079689  0.061589\n",
              "2      0 -0.135112  0.072540\n",
              "3      0 -0.034945  0.140693\n",
              "4      0 -0.119662  0.049405"
            ]
          },
          "metadata": {},
          "execution_count": 72
        }
      ]
    },
    {
      "cell_type": "markdown",
      "metadata": {
        "id": "5QM5Mi0L864b"
      },
      "source": [
        "### Plotted the variance explained by bith the Singular vector components against the target feature."
      ]
    },
    {
      "cell_type": "code",
      "metadata": {
        "id": "8GhYGKH-1Rwx"
      },
      "source": [
        "plt.figure()\n",
        "plt.figure(figsize=(10,10))\n",
        "plt.xlabel('SV1')\n",
        "plt.ylabel('SV2')\n",
        "plt.title('SVD')\n",
        "sns.scatterplot(x=svd_df['SV1'], y=svd_df['SV2'],hue=svd_df[\"Class\"],\n",
        "                palette=[\"blue\",\"red\",\"orange\"])\n",
        "plt.xlabel('SV 1: {0}%'.format(variance_explained[0]*100), fontsize=15)\n",
        "plt.ylabel('SV 2: {0}%'.format(variance_explained[1]*100), fontsize=15)"
      ],
      "execution_count": null,
      "outputs": []
    },
    {
      "cell_type": "markdown",
      "metadata": {
        "id": "OHp4rsrWG1KC"
      },
      "source": [
        "# **3. Dimensionality Reduction Using LLE**"
      ]
    },
    {
      "cell_type": "markdown",
      "metadata": {
        "id": "UC_Ulkq2G_65"
      },
      "source": [
        "### I have used the same Wine dataset for LLE"
      ]
    },
    {
      "cell_type": "code",
      "metadata": {
        "colab": {
          "base_uri": "https://localhost:8080/",
          "height": 269
        },
        "id": "nmZxUaHNG8uq",
        "outputId": "f26290b6-fd46-4f49-8410-018450ac59d8"
      },
      "source": [
        "from sklearn.manifold import LocallyLinearEmbedding\n",
        "# here I have set the number of components to be derived as 2 \n",
        "lle= LocallyLinearEmbedding(n_neighbors=5, n_components=2)\n",
        "X_transformed=lle.fit_transform(wine_ds)\n",
        "fig, ax = plt.subplots()\n",
        "colorize = dict(c=X_transformed[:, 0], cmap=plt.cm.get_cmap('rainbow', 5))\n",
        "ax.scatter(X_transformed[:, 0], X_transformed[:, 1], **colorize)\n",
        "ax.set_ylim(0.15, -0.15);"
      ],
      "execution_count": 66,
      "outputs": [
        {
          "output_type": "display_data",
          "data": {
            "image/png": "[encoded data removed]",
            "text/plain": [
              "<Figure size 432x288 with 1 Axes>"
            ]
          },
          "metadata": {
            "needs_background": "light"
          }
        }
      ]
    },
    {
      "cell_type": "markdown",
      "metadata": {
        "id": "ZVDPkuUdPUmJ"
      },
      "source": [
        "# **4. Dimensionality reduction T-SNE Technique**"
      ]
    },
    {
      "cell_type": "code",
      "metadata": {
        "colab": {
          "base_uri": "https://localhost:8080/"
        },
        "id": "IQrIGJUGPk6p",
        "outputId": "6d7fff93-8180-459b-b920-c43d5dc6f345"
      },
      "source": [
        "# Implementing t-SNE.\n",
        "from sklearn.manifold import TSNE\n",
        "# here I have set the number of components to be derived as 2 \n",
        "# I have used the same wine dataset for this technique\n",
        "tsne = TSNE(n_components=2, verbose=1, perplexity=40, n_iter=300)\n",
        "tsne_results1 = tsne.fit_transform(X_features)"
      ],
      "execution_count": 67,
      "outputs": [
        {
          "output_type": "stream",
          "name": "stdout",
          "text": [
            "[t-SNE] Computing 121 nearest neighbors...\n",
            "[t-SNE] Indexed 177 samples in 0.000s...\n",
            "[t-SNE] Computed neighbors for 177 samples in 0.010s...\n",
            "[t-SNE] Computed conditional probabilities for sample 177 / 177\n",
            "[t-SNE] Mean sigma: 1.534325\n",
            "[t-SNE] KL divergence after 250 iterations with early exaggeration: 57.529057\n",
            "[t-SNE] KL divergence after 300 iterations: 0.574947\n"
          ]
        }
      ]
    },
    {
      "cell_type": "code",
      "metadata": {
        "id": "uIO3-8eLQRbA"
      },
      "source": [
        "tsne_results1"
      ],
      "execution_count": null,
      "outputs": []
    },
    {
      "cell_type": "code",
      "metadata": {
        "id": "98sXaIr0Qai6"
      },
      "source": [
        "# Creating a dataframe featuring the two principal components that we acquired through t-SNE.\n",
        "tsne_dataset1 = pd.DataFrame(data = tsne_results1, columns = ['component1', 'component2'] )\n",
        "tsne_dataset1.head()"
      ],
      "execution_count": null,
      "outputs": []
    },
    {
      "cell_type": "code",
      "metadata": {
        "id": "OCe11xT4QiYz"
      },
      "source": [
        "# Extracting the two features from above in order to add them to the dataframe.\n",
        "tsne_component1 = tsne_dataset1['component1']\n",
        "tsne_component2 = tsne_dataset1['component2']\n",
        "# Visualizing the effects of the T-distributed Stochastic Neighbour Embedding.\n",
        "plt.figure()\n",
        "plt.figure(figsize=(10,10))\n",
        "plt.xlabel('Component 1')\n",
        "plt.ylabel('Component 2')\n",
        "plt.title('2 Component TSNE')\n",
        "plt.scatter(tsne_component1, tsne_component2)"
      ],
      "execution_count": null,
      "outputs": []
    },
    {
      "cell_type": "markdown",
      "metadata": {
        "id": "NCHOcn-tiHqN"
      },
      "source": [
        "# **5. Isometric mapping for Dimensionality Reduction**"
      ]
    },
    {
      "cell_type": "markdown",
      "metadata": {
        "id": "pbQtx4n6iV4C"
      },
      "source": [
        "### It is a non linear dimensionality reduction technique. The steps involved in it are as follow\n",
        "1. First the nearest neighbours of each point and create a weighted graph by connecting each point to its nearest neighbour. The nodes in the graph are the data points and the weights are the distance between them.\n",
        "2. Now redefine the distance between the points to be the lenghth of the shortest path between 2 points in the neighbourhood graph.\n",
        "3. Lastly Apply MDS to the newly created distance matrix."
      ]
    },
    {
      "cell_type": "code",
      "metadata": {
        "id": "46J0v7HAiHKM"
      },
      "source": [
        "# Using the same Wine dataset\n",
        "from sklearn import datasets\n",
        "from sklearn import manifold\n",
        "wine = datasets.load_wine()\n",
        "\n",
        "# input features\n",
        "print(wine.feature_names)"
      ],
      "execution_count": null,
      "outputs": []
    },
    {
      "cell_type": "code",
      "metadata": {
        "id": "YajCO1LZTEby"
      },
      "source": [
        "# output features\n",
        "print(wine.target_names)"
      ],
      "execution_count": null,
      "outputs": []
    },
    {
      "cell_type": "markdown",
      "metadata": {
        "id": "j3AzGlPpTgMw"
      },
      "source": [
        "Assigning Input (X) and Output (Y) variables\n",
        "Let's assign the all input variables to X and the output variable (class label) to Y"
      ]
    },
    {
      "cell_type": "code",
      "metadata": {
        "id": "nv-FppAcTRyg"
      },
      "source": [
        "\n",
        "X = wine.data\n",
        "Y = wine.target"
      ],
      "execution_count": 72,
      "outputs": []
    },
    {
      "cell_type": "markdown",
      "metadata": {
        "id": "Jms33Z6OTxKW"
      },
      "source": [
        "Determining the dimensions"
      ]
    },
    {
      "cell_type": "code",
      "metadata": {
        "id": "ALb7QkT4QHXn"
      },
      "source": [
        "X.shape"
      ],
      "execution_count": null,
      "outputs": []
    },
    {
      "cell_type": "code",
      "metadata": {
        "id": "lqpxxgpXbUfs"
      },
      "source": [
        "Y.shape"
      ],
      "execution_count": null,
      "outputs": []
    },
    {
      "cell_type": "code",
      "metadata": {
        "id": "xbl_OdzcO9lX"
      },
      "source": [
        "# Appying ISOMap on the dataset for 2 components, this will result in \n",
        "# a dataset with 2 features.\n",
        "iso_map = manifold.Isomap(n_neighbors=6, n_components=2)\n",
        "iso_map.fit(X)\n",
        "manifold_iso_map_data = iso_map.transform(X)"
      ],
      "execution_count": 31,
      "outputs": []
    },
    {
      "cell_type": "code",
      "metadata": {
        "id": "ZxV0gU3edIdk"
      },
      "source": [
        "# Dimensions are reduced from 13 to 2\n",
        "manifold_iso_map_data.shape"
      ],
      "execution_count": null,
      "outputs": []
    },
    {
      "cell_type": "code",
      "metadata": {
        "colab": {
          "base_uri": "https://localhost:8080/",
          "height": 282
        },
        "id": "eUbjGOPKQKzU",
        "outputId": "a863d3aa-2598-464c-ec11-58776d6b010a"
      },
      "source": [
        "# Plotting the graph against the target variable which is Class of wine in our case\n",
        "fig, ax = plt.subplots()\n",
        "scatter = ax.scatter(manifold_iso_map_data[:,0],manifold_iso_map_data[:,1], c=Y,)\n",
        "# produce a legend with the unique colors from the scatter\n",
        "isomap = ax.legend(*scatter.legend_elements(),loc=\"upper left\", title=\"Classes\")\n",
        "ax.add_artist(isomap)\n"
      ],
      "execution_count": 34,
      "outputs": [
        {
          "output_type": "execute_result",
          "data": {
            "text/plain": [
              "<matplotlib.legend.Legend at 0x7fab57cd0250>"
            ]
          },
          "metadata": {},
          "execution_count": 34
        },
        {
          "output_type": "display_data",
          "data": {
            "image/png": "[encoded data removed]",
            "text/plain": [
              "<Figure size 432x288 with 1 Axes>"
            ]
          },
          "metadata": {
            "needs_background": "light"
          }
        }
      ]
    },
    {
      "cell_type": "markdown",
      "metadata": {
        "id": "23ZKTrNtdgqM"
      },
      "source": [
        "# **6. Uniform Manifold Approximation and Projection (UMAP) for Dimensionality Reduction**"
      ]
    },
    {
      "cell_type": "code",
      "metadata": {
        "id": "o_O2UXire0UP"
      },
      "source": [
        "# I have used the same Wine dataset for UMAP\n",
        "# Implementing UMAP.\n",
        "# installing umap package\n",
        "!pip install umap-learn\n"
      ],
      "execution_count": null,
      "outputs": []
    },
    {
      "cell_type": "code",
      "metadata": {
        "id": "uwji2CWHlIvP"
      },
      "source": [
        "import umap\n",
        "# This is converting the data into low dimension \n",
        "embedding = umap.UMAP(n_components=2,n_neighbors=50,\n",
        "                      min_dist=0.3,\n",
        "                      metric='correlation').fit_transform(X)\n"
      ],
      "execution_count": 52,
      "outputs": []
    },
    {
      "cell_type": "markdown",
      "metadata": {
        "id": "c6Fpm10zqG6Y"
      },
      "source": [
        "The above embedding is the 2 dimension representation of the dataset."
      ]
    },
    {
      "cell_type": "code",
      "metadata": {
        "id": "AY--i68zm7dq"
      },
      "source": [
        "component1_umap = embedding[:,0]\n",
        "component2_umap = embedding[:,1]"
      ],
      "execution_count": 53,
      "outputs": []
    },
    {
      "cell_type": "code",
      "metadata": {
        "colab": {
          "base_uri": "https://localhost:8080/",
          "height": 547
        },
        "id": "vkl9ZFGWnGIR",
        "outputId": "f44e440b-efa4-4ca3-f880-d083ce742fa2"
      },
      "source": [
        "# Visualized the effects of the Uniform Manifold Approximation and Projection.\n",
        "plt.figure()\n",
        "plt.figure(figsize=(8,8))\n",
        "plt.xlabel('Component 1')\n",
        "plt.ylabel('Component 2')\n",
        "plt.title('2 Component UMAP')\n",
        "plt.scatter(component1_umap, component2_umap)"
      ],
      "execution_count": 62,
      "outputs": [
        {
          "output_type": "execute_result",
          "data": {
            "text/plain": [
              "<matplotlib.collections.PathCollection at 0x7faae621ddd0>"
            ]
          },
          "metadata": {},
          "execution_count": 62
        },
        {
          "output_type": "display_data",
          "data": {
            "text/plain": [
              "<Figure size 432x288 with 0 Axes>"
            ]
          },
          "metadata": {}
        },
        {
          "output_type": "display_data",
          "data": {
            "image/png": "[encoded data removed]",
            "text/plain": [
              "<Figure size 576x576 with 1 Axes>"
            ]
          },
          "metadata": {
            "needs_background": "light"
          }
        }
      ]
    },
    {
      "cell_type": "markdown",
      "metadata": {
        "id": "mVNeiJA2nSU-"
      },
      "source": [
        "The above graph shows the 2 components which are the result of the dimensionality reduction.\n",
        "\n"
      ]
    },
    {
      "cell_type": "code",
      "metadata": {
        "colab": {
          "base_uri": "https://localhost:8080/",
          "height": 281
        },
        "id": "rzYSTLJyn1vm",
        "outputId": "474b97c5-c2a1-42bf-d67d-3e95490d68a0"
      },
      "source": [
        "# Plotting the points in 2-d with respect to target variable which is wine Class\n",
        "plt.scatter(embedding[:,0], embedding[:,1], c=Y)\n",
        "plt.title('UMAP embedding of random colours');"
      ],
      "execution_count": 65,
      "outputs": [
        {
          "output_type": "display_data",
          "data": {
            "image/png": "[encoded data removed]",
            "text/plain": [
              "<Figure size 432x288 with 1 Axes>"
            ]
          },
          "metadata": {
            "needs_background": "light"
          }
        }
      ]
    },
    {
      "cell_type": "markdown",
      "metadata": {
        "id": "EWG6j5w_r56q"
      },
      "source": [
        "In the above graph the data is placed in 2 dimensional space, i-e the points that were close in 4-dimensional space are kept close together. "
      ]
    }
  ]
}