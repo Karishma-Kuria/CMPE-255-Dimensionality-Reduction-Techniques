{
  "nbformat": 4,
  "nbformat_minor": 0,
  "metadata": {
    "colab": {
      "name": "DimensionalityReduction_For_Tabular_Dataset.ipynb",
      "provenance": [],
      "collapsed_sections": [],
      "authorship_tag": "ABX9TyMfuaIJchkPAdhIFUhIq09+",
      "include_colab_link": true
    },
    "kernelspec": {
      "name": "python3",
      "display_name": "Python 3"
    },
    "language_info": {
      "name": "python"
    }
  },
  "cells": [
    {
      "cell_type": "markdown",
      "metadata": {
        "id": "view-in-github",
        "colab_type": "text"
      },
      "source": [
        "<a href=\"https://colab.research.google.com/github/Karishma-Kuria/CMPE-255-Dimensionality-Reduction-Techniques/blob/main/DimensionalityReduction_For_Tabular_Dataset.ipynb\" target=\"_parent\"><img src=\"https://colab.research.google.com/assets/colab-badge.svg\" alt=\"Open In Colab\"/></a>"
      ]
    },
    {
      "cell_type": "markdown",
      "metadata": {
        "id": "dJx7aye2fCVo"
      },
      "source": [
        "# **Various Dimensionality Reduction techniques**"
      ]
    },
    {
      "cell_type": "code",
      "metadata": {
        "colab": {
          "base_uri": "https://localhost:8080/",
          "height": 225
        },
        "id": "IcX93JbdJNYu",
        "outputId": "8f102c77-7bed-405d-fa85-9cc6d085399d"
      },
      "source": [
        "# importing relevant libraries\n",
        "import numpy as np\n",
        "import pandas as pd\n",
        "import seaborn as sns\n",
        "from sklearn import datasets\n",
        "import matplotlib.pyplot as plt\n",
        "from sklearn.decomposition import PCA\n",
        "from sklearn.preprocessing import StandardScaler\n",
        "\n",
        "# The dataset which I have used is uploaded in the below git-repo\n",
        "dataset_path = 'https://github.com/Karishma-Kuria/CMPE-255-Dimensionality-Reduction-Techniques/blob/main/Wine.csv?raw=true'\n",
        "columns = ['class','alcohol', 'malic_acid', 'ash', 'alcalinity_of_ash', 'magnesium',\n",
        "    'total_phenols', 'flavanoids', 'nonflavanoid_phenols',\n",
        "    'proanthocyanins', 'color_intensity', 'hue',\n",
        "    'od280/od315_of_diluted_wines', 'proline']\n",
        "wine_dataset = pd.read_csv(dataset_path, names=columns, header=0)\n",
        "wine_ds = wine_dataset.copy()\n",
        "\n",
        "# Prints top 5 rows of dataset\n",
        "wine_ds.head()\n"
      ],
      "execution_count": 45,
      "outputs": [
        {
          "output_type": "execute_result",
          "data": {
            "text/html": [
              "<div>\n",
              "<style scoped>\n",
              "    .dataframe tbody tr th:only-of-type {\n",
              "        vertical-align: middle;\n",
              "    }\n",
              "\n",
              "    .dataframe tbody tr th {\n",
              "        vertical-align: top;\n",
              "    }\n",
              "\n",
              "    .dataframe thead th {\n",
              "        text-align: right;\n",
              "    }\n",
              "</style>\n",
              "<table border=\"1\" class=\"dataframe\">\n",
              "  <thead>\n",
              "    <tr style=\"text-align: right;\">\n",
              "      <th></th>\n",
              "      <th>class</th>\n",
              "      <th>alcohol</th>\n",
              "      <th>malic_acid</th>\n",
              "      <th>ash</th>\n",
              "      <th>alcalinity_of_ash</th>\n",
              "      <th>magnesium</th>\n",
              "      <th>total_phenols</th>\n",
              "      <th>flavanoids</th>\n",
              "      <th>nonflavanoid_phenols</th>\n",
              "      <th>proanthocyanins</th>\n",
              "      <th>color_intensity</th>\n",
              "      <th>hue</th>\n",
              "      <th>od280/od315_of_diluted_wines</th>\n",
              "      <th>proline</th>\n",
              "    </tr>\n",
              "  </thead>\n",
              "  <tbody>\n",
              "    <tr>\n",
              "      <th>0</th>\n",
              "      <td>1</td>\n",
              "      <td>13.20</td>\n",
              "      <td>1.78</td>\n",
              "      <td>2.14</td>\n",
              "      <td>11.2</td>\n",
              "      <td>100</td>\n",
              "      <td>2.65</td>\n",
              "      <td>2.76</td>\n",
              "      <td>0.26</td>\n",
              "      <td>1.28</td>\n",
              "      <td>4.38</td>\n",
              "      <td>1.05</td>\n",
              "      <td>3.40</td>\n",
              "      <td>1050</td>\n",
              "    </tr>\n",
              "    <tr>\n",
              "      <th>1</th>\n",
              "      <td>1</td>\n",
              "      <td>13.16</td>\n",
              "      <td>2.36</td>\n",
              "      <td>2.67</td>\n",
              "      <td>18.6</td>\n",
              "      <td>101</td>\n",
              "      <td>2.80</td>\n",
              "      <td>3.24</td>\n",
              "      <td>0.30</td>\n",
              "      <td>2.81</td>\n",
              "      <td>5.68</td>\n",
              "      <td>1.03</td>\n",
              "      <td>3.17</td>\n",
              "      <td>1185</td>\n",
              "    </tr>\n",
              "    <tr>\n",
              "      <th>2</th>\n",
              "      <td>1</td>\n",
              "      <td>14.37</td>\n",
              "      <td>1.95</td>\n",
              "      <td>2.50</td>\n",
              "      <td>16.8</td>\n",
              "      <td>113</td>\n",
              "      <td>3.85</td>\n",
              "      <td>3.49</td>\n",
              "      <td>0.24</td>\n",
              "      <td>2.18</td>\n",
              "      <td>7.80</td>\n",
              "      <td>0.86</td>\n",
              "      <td>3.45</td>\n",
              "      <td>1480</td>\n",
              "    </tr>\n",
              "    <tr>\n",
              "      <th>3</th>\n",
              "      <td>1</td>\n",
              "      <td>13.24</td>\n",
              "      <td>2.59</td>\n",
              "      <td>2.87</td>\n",
              "      <td>21.0</td>\n",
              "      <td>118</td>\n",
              "      <td>2.80</td>\n",
              "      <td>2.69</td>\n",
              "      <td>0.39</td>\n",
              "      <td>1.82</td>\n",
              "      <td>4.32</td>\n",
              "      <td>1.04</td>\n",
              "      <td>2.93</td>\n",
              "      <td>735</td>\n",
              "    </tr>\n",
              "    <tr>\n",
              "      <th>4</th>\n",
              "      <td>1</td>\n",
              "      <td>14.20</td>\n",
              "      <td>1.76</td>\n",
              "      <td>2.45</td>\n",
              "      <td>15.2</td>\n",
              "      <td>112</td>\n",
              "      <td>3.27</td>\n",
              "      <td>3.39</td>\n",
              "      <td>0.34</td>\n",
              "      <td>1.97</td>\n",
              "      <td>6.75</td>\n",
              "      <td>1.05</td>\n",
              "      <td>2.85</td>\n",
              "      <td>1450</td>\n",
              "    </tr>\n",
              "  </tbody>\n",
              "</table>\n",
              "</div>"
            ],
            "text/plain": [
              "   class  alcohol  malic_acid  ...   hue  od280/od315_of_diluted_wines  proline\n",
              "0      1    13.20        1.78  ...  1.05                          3.40     1050\n",
              "1      1    13.16        2.36  ...  1.03                          3.17     1185\n",
              "2      1    14.37        1.95  ...  0.86                          3.45     1480\n",
              "3      1    13.24        2.59  ...  1.04                          2.93      735\n",
              "4      1    14.20        1.76  ...  1.05                          2.85     1450\n",
              "\n",
              "[5 rows x 14 columns]"
            ]
          },
          "metadata": {},
          "execution_count": 45
        }
      ]
    },
    {
      "cell_type": "code",
      "metadata": {
        "id": "4nqwYVdEKsNZ",
        "colab": {
          "base_uri": "https://localhost:8080/"
        },
        "outputId": "cbf617f0-5343-458e-c974-61ab54d2b709"
      },
      "source": [
        "wine_ds.describe"
      ],
      "execution_count": 46,
      "outputs": [
        {
          "output_type": "execute_result",
          "data": {
            "text/plain": [
              "<bound method NDFrame.describe of      class  alcohol  malic_acid  ...   hue  od280/od315_of_diluted_wines  proline\n",
              "0        1    13.20        1.78  ...  1.05                          3.40     1050\n",
              "1        1    13.16        2.36  ...  1.03                          3.17     1185\n",
              "2        1    14.37        1.95  ...  0.86                          3.45     1480\n",
              "3        1    13.24        2.59  ...  1.04                          2.93      735\n",
              "4        1    14.20        1.76  ...  1.05                          2.85     1450\n",
              "..     ...      ...         ...  ...   ...                           ...      ...\n",
              "172      3    13.71        5.65  ...  0.64                          1.74      740\n",
              "173      3    13.40        3.91  ...  0.70                          1.56      750\n",
              "174      3    13.27        4.28  ...  0.59                          1.56      835\n",
              "175      3    13.17        2.59  ...  0.60                          1.62      840\n",
              "176      3    14.13        4.10  ...  0.61                          1.60      560\n",
              "\n",
              "[177 rows x 14 columns]>"
            ]
          },
          "metadata": {},
          "execution_count": 46
        }
      ]
    },
    {
      "cell_type": "code",
      "metadata": {
        "colab": {
          "base_uri": "https://localhost:8080/"
        },
        "id": "oGDE3cEnkvCt",
        "outputId": "e6df80bd-75e0-4b86-ecba-2a9de4377994"
      },
      "source": [
        "wine_ds.shape"
      ],
      "execution_count": 47,
      "outputs": [
        {
          "output_type": "execute_result",
          "data": {
            "text/plain": [
              "(177, 14)"
            ]
          },
          "metadata": {},
          "execution_count": 47
        }
      ]
    },
    {
      "cell_type": "markdown",
      "metadata": {
        "id": "PM-u-vK4s266"
      },
      "source": [
        "# **1. Dimensionality Reduction using PCA**"
      ]
    },
    {
      "cell_type": "markdown",
      "metadata": {
        "id": "pxV3LE_nZf2x"
      },
      "source": [
        "PCA as an unsupervised linear dimensionality reduction technique that helps us identify patterns in data based of the correlation between the features. \n",
        "\n",
        "PCA aims to find the directions of the maximum variance in high dimensional data and project it onto a lower dimensional feature space."
      ]
    },
    {
      "cell_type": "markdown",
      "metadata": {
        "id": "zitLoVJElX18"
      },
      "source": [
        "## **Calculating Correlation**"
      ]
    },
    {
      "cell_type": "code",
      "metadata": {
        "colab": {
          "base_uri": "https://localhost:8080/",
          "height": 506
        },
        "id": "pBeTBDNflQ8J",
        "outputId": "7a22bb5c-c552-496d-ed23-aa3d201fac0b"
      },
      "source": [
        "wine_ds.corr()"
      ],
      "execution_count": 48,
      "outputs": [
        {
          "output_type": "execute_result",
          "data": {
            "text/html": [
              "<div>\n",
              "<style scoped>\n",
              "    .dataframe tbody tr th:only-of-type {\n",
              "        vertical-align: middle;\n",
              "    }\n",
              "\n",
              "    .dataframe tbody tr th {\n",
              "        vertical-align: top;\n",
              "    }\n",
              "\n",
              "    .dataframe thead th {\n",
              "        text-align: right;\n",
              "    }\n",
              "</style>\n",
              "<table border=\"1\" class=\"dataframe\">\n",
              "  <thead>\n",
              "    <tr style=\"text-align: right;\">\n",
              "      <th></th>\n",
              "      <th>class</th>\n",
              "      <th>alcohol</th>\n",
              "      <th>malic_acid</th>\n",
              "      <th>ash</th>\n",
              "      <th>alcalinity_of_ash</th>\n",
              "      <th>magnesium</th>\n",
              "      <th>total_phenols</th>\n",
              "      <th>flavanoids</th>\n",
              "      <th>nonflavanoid_phenols</th>\n",
              "      <th>proanthocyanins</th>\n",
              "      <th>color_intensity</th>\n",
              "      <th>hue</th>\n",
              "      <th>od280/od315_of_diluted_wines</th>\n",
              "      <th>proline</th>\n",
              "    </tr>\n",
              "  </thead>\n",
              "  <tbody>\n",
              "    <tr>\n",
              "      <th>class</th>\n",
              "      <td>1.000000</td>\n",
              "      <td>-0.321238</td>\n",
              "      <td>0.436127</td>\n",
              "      <td>-0.048260</td>\n",
              "      <td>0.513963</td>\n",
              "      <td>-0.198944</td>\n",
              "      <td>-0.717933</td>\n",
              "      <td>-0.846485</td>\n",
              "      <td>0.487215</td>\n",
              "      <td>-0.494887</td>\n",
              "      <td>0.268562</td>\n",
              "      <td>-0.617690</td>\n",
              "      <td>-0.786428</td>\n",
              "      <td>-0.631227</td>\n",
              "    </tr>\n",
              "    <tr>\n",
              "      <th>alcohol</th>\n",
              "      <td>-0.321238</td>\n",
              "      <td>1.000000</td>\n",
              "      <td>0.099963</td>\n",
              "      <td>0.210964</td>\n",
              "      <td>-0.303350</td>\n",
              "      <td>0.258742</td>\n",
              "      <td>0.284543</td>\n",
              "      <td>0.230133</td>\n",
              "      <td>-0.151445</td>\n",
              "      <td>0.127561</td>\n",
              "      <td>0.547883</td>\n",
              "      <td>-0.075375</td>\n",
              "      <td>0.057417</td>\n",
              "      <td>0.641068</td>\n",
              "    </tr>\n",
              "    <tr>\n",
              "      <th>malic_acid</th>\n",
              "      <td>0.436127</td>\n",
              "      <td>0.099963</td>\n",
              "      <td>1.000000</td>\n",
              "      <td>0.164955</td>\n",
              "      <td>0.286148</td>\n",
              "      <td>-0.049049</td>\n",
              "      <td>-0.333512</td>\n",
              "      <td>-0.409324</td>\n",
              "      <td>0.291501</td>\n",
              "      <td>-0.217975</td>\n",
              "      <td>0.250053</td>\n",
              "      <td>-0.560854</td>\n",
              "      <td>-0.366720</td>\n",
              "      <td>-0.189512</td>\n",
              "    </tr>\n",
              "    <tr>\n",
              "      <th>ash</th>\n",
              "      <td>-0.048260</td>\n",
              "      <td>0.210964</td>\n",
              "      <td>0.164955</td>\n",
              "      <td>1.000000</td>\n",
              "      <td>0.446698</td>\n",
              "      <td>0.287107</td>\n",
              "      <td>0.128176</td>\n",
              "      <td>0.114084</td>\n",
              "      <td>0.187354</td>\n",
              "      <td>0.008082</td>\n",
              "      <td>0.258643</td>\n",
              "      <td>-0.075181</td>\n",
              "      <td>0.001503</td>\n",
              "      <td>0.222979</td>\n",
              "    </tr>\n",
              "    <tr>\n",
              "      <th>alcalinity_of_ash</th>\n",
              "      <td>0.513963</td>\n",
              "      <td>-0.303350</td>\n",
              "      <td>0.286148</td>\n",
              "      <td>0.446698</td>\n",
              "      <td>1.000000</td>\n",
              "      <td>-0.071707</td>\n",
              "      <td>-0.317583</td>\n",
              "      <td>-0.346922</td>\n",
              "      <td>0.359395</td>\n",
              "      <td>-0.190779</td>\n",
              "      <td>0.020478</td>\n",
              "      <td>-0.272719</td>\n",
              "      <td>-0.268186</td>\n",
              "      <td>-0.436858</td>\n",
              "    </tr>\n",
              "    <tr>\n",
              "      <th>magnesium</th>\n",
              "      <td>-0.198944</td>\n",
              "      <td>0.258742</td>\n",
              "      <td>-0.049049</td>\n",
              "      <td>0.287107</td>\n",
              "      <td>-0.071707</td>\n",
              "      <td>1.000000</td>\n",
              "      <td>0.208200</td>\n",
              "      <td>0.187101</td>\n",
              "      <td>-0.252091</td>\n",
              "      <td>0.226504</td>\n",
              "      <td>0.199337</td>\n",
              "      <td>0.052042</td>\n",
              "      <td>0.046961</td>\n",
              "      <td>0.387542</td>\n",
              "    </tr>\n",
              "    <tr>\n",
              "      <th>total_phenols</th>\n",
              "      <td>-0.717933</td>\n",
              "      <td>0.284543</td>\n",
              "      <td>-0.333512</td>\n",
              "      <td>0.128176</td>\n",
              "      <td>-0.317583</td>\n",
              "      <td>0.208200</td>\n",
              "      <td>1.000000</td>\n",
              "      <td>0.864046</td>\n",
              "      <td>-0.448301</td>\n",
              "      <td>0.610533</td>\n",
              "      <td>-0.056401</td>\n",
              "      <td>0.432987</td>\n",
              "      <td>0.699566</td>\n",
              "      <td>0.495839</td>\n",
              "    </tr>\n",
              "    <tr>\n",
              "      <th>flavanoids</th>\n",
              "      <td>-0.846485</td>\n",
              "      <td>0.230133</td>\n",
              "      <td>-0.409324</td>\n",
              "      <td>0.114084</td>\n",
              "      <td>-0.346922</td>\n",
              "      <td>0.187101</td>\n",
              "      <td>0.864046</td>\n",
              "      <td>1.000000</td>\n",
              "      <td>-0.536326</td>\n",
              "      <td>0.650254</td>\n",
              "      <td>-0.174411</td>\n",
              "      <td>0.543208</td>\n",
              "      <td>0.786372</td>\n",
              "      <td>0.491180</td>\n",
              "    </tr>\n",
              "    <tr>\n",
              "      <th>nonflavanoid_phenols</th>\n",
              "      <td>0.487215</td>\n",
              "      <td>-0.151445</td>\n",
              "      <td>0.291501</td>\n",
              "      <td>0.187354</td>\n",
              "      <td>0.359395</td>\n",
              "      <td>-0.252091</td>\n",
              "      <td>-0.448301</td>\n",
              "      <td>-0.536326</td>\n",
              "      <td>1.000000</td>\n",
              "      <td>-0.363268</td>\n",
              "      <td>0.140192</td>\n",
              "      <td>-0.261709</td>\n",
              "      <td>-0.501859</td>\n",
              "      <td>-0.308886</td>\n",
              "    </tr>\n",
              "    <tr>\n",
              "      <th>proanthocyanins</th>\n",
              "      <td>-0.494887</td>\n",
              "      <td>0.127561</td>\n",
              "      <td>-0.217975</td>\n",
              "      <td>0.008082</td>\n",
              "      <td>-0.190779</td>\n",
              "      <td>0.226504</td>\n",
              "      <td>0.610533</td>\n",
              "      <td>0.650254</td>\n",
              "      <td>-0.363268</td>\n",
              "      <td>1.000000</td>\n",
              "      <td>-0.027112</td>\n",
              "      <td>0.294397</td>\n",
              "      <td>0.513415</td>\n",
              "      <td>0.325731</td>\n",
              "    </tr>\n",
              "    <tr>\n",
              "      <th>color_intensity</th>\n",
              "      <td>0.268562</td>\n",
              "      <td>0.547883</td>\n",
              "      <td>0.250053</td>\n",
              "      <td>0.258643</td>\n",
              "      <td>0.020478</td>\n",
              "      <td>0.199337</td>\n",
              "      <td>-0.056401</td>\n",
              "      <td>-0.174411</td>\n",
              "      <td>0.140192</td>\n",
              "      <td>-0.027112</td>\n",
              "      <td>1.000000</td>\n",
              "      <td>-0.522615</td>\n",
              "      <td>-0.435744</td>\n",
              "      <td>0.315632</td>\n",
              "    </tr>\n",
              "    <tr>\n",
              "      <th>hue</th>\n",
              "      <td>-0.617690</td>\n",
              "      <td>-0.075375</td>\n",
              "      <td>-0.560854</td>\n",
              "      <td>-0.075181</td>\n",
              "      <td>-0.272719</td>\n",
              "      <td>0.052042</td>\n",
              "      <td>0.432987</td>\n",
              "      <td>0.543208</td>\n",
              "      <td>-0.261709</td>\n",
              "      <td>0.294397</td>\n",
              "      <td>-0.522615</td>\n",
              "      <td>1.000000</td>\n",
              "      <td>0.567395</td>\n",
              "      <td>0.234879</td>\n",
              "    </tr>\n",
              "    <tr>\n",
              "      <th>od280/od315_of_diluted_wines</th>\n",
              "      <td>-0.786428</td>\n",
              "      <td>0.057417</td>\n",
              "      <td>-0.366720</td>\n",
              "      <td>0.001503</td>\n",
              "      <td>-0.268186</td>\n",
              "      <td>0.046961</td>\n",
              "      <td>0.699566</td>\n",
              "      <td>0.786372</td>\n",
              "      <td>-0.501859</td>\n",
              "      <td>0.513415</td>\n",
              "      <td>-0.435744</td>\n",
              "      <td>0.567395</td>\n",
              "      <td>1.000000</td>\n",
              "      <td>0.306031</td>\n",
              "    </tr>\n",
              "    <tr>\n",
              "      <th>proline</th>\n",
              "      <td>-0.631227</td>\n",
              "      <td>0.641068</td>\n",
              "      <td>-0.189512</td>\n",
              "      <td>0.222979</td>\n",
              "      <td>-0.436858</td>\n",
              "      <td>0.387542</td>\n",
              "      <td>0.495839</td>\n",
              "      <td>0.491180</td>\n",
              "      <td>-0.308886</td>\n",
              "      <td>0.325731</td>\n",
              "      <td>0.315632</td>\n",
              "      <td>0.234879</td>\n",
              "      <td>0.306031</td>\n",
              "      <td>1.000000</td>\n",
              "    </tr>\n",
              "  </tbody>\n",
              "</table>\n",
              "</div>"
            ],
            "text/plain": [
              "                                 class  ...   proline\n",
              "class                         1.000000  ... -0.631227\n",
              "alcohol                      -0.321238  ...  0.641068\n",
              "malic_acid                    0.436127  ... -0.189512\n",
              "ash                          -0.048260  ...  0.222979\n",
              "alcalinity_of_ash             0.513963  ... -0.436858\n",
              "magnesium                    -0.198944  ...  0.387542\n",
              "total_phenols                -0.717933  ...  0.495839\n",
              "flavanoids                   -0.846485  ...  0.491180\n",
              "nonflavanoid_phenols          0.487215  ... -0.308886\n",
              "proanthocyanins              -0.494887  ...  0.325731\n",
              "color_intensity               0.268562  ...  0.315632\n",
              "hue                          -0.617690  ...  0.234879\n",
              "od280/od315_of_diluted_wines -0.786428  ...  0.306031\n",
              "proline                      -0.631227  ...  1.000000\n",
              "\n",
              "[14 rows x 14 columns]"
            ]
          },
          "metadata": {},
          "execution_count": 48
        }
      ]
    },
    {
      "cell_type": "markdown",
      "metadata": {
        "id": "Z838EmsvlhIY"
      },
      "source": [
        "### The above table shows the correlation between all the pairs. If the correlation is positive, it means if one variable increases the other variable also increases. Negative means if one variable decreases the other also decreases. "
      ]
    },
    {
      "cell_type": "code",
      "metadata": {
        "id": "AL5_PbjzgEWr",
        "colab": {
          "base_uri": "https://localhost:8080/",
          "height": 442
        },
        "outputId": "4003c4ca-669b-4f6f-c179-614f9eb15409"
      },
      "source": [
        "X_variables = wine_ds.iloc[:,1:14]\n",
        "X_variables"
      ],
      "execution_count": 49,
      "outputs": [
        {
          "output_type": "execute_result",
          "data": {
            "text/html": [
              "<div>\n",
              "<style scoped>\n",
              "    .dataframe tbody tr th:only-of-type {\n",
              "        vertical-align: middle;\n",
              "    }\n",
              "\n",
              "    .dataframe tbody tr th {\n",
              "        vertical-align: top;\n",
              "    }\n",
              "\n",
              "    .dataframe thead th {\n",
              "        text-align: right;\n",
              "    }\n",
              "</style>\n",
              "<table border=\"1\" class=\"dataframe\">\n",
              "  <thead>\n",
              "    <tr style=\"text-align: right;\">\n",
              "      <th></th>\n",
              "      <th>alcohol</th>\n",
              "      <th>malic_acid</th>\n",
              "      <th>ash</th>\n",
              "      <th>alcalinity_of_ash</th>\n",
              "      <th>magnesium</th>\n",
              "      <th>total_phenols</th>\n",
              "      <th>flavanoids</th>\n",
              "      <th>nonflavanoid_phenols</th>\n",
              "      <th>proanthocyanins</th>\n",
              "      <th>color_intensity</th>\n",
              "      <th>hue</th>\n",
              "      <th>od280/od315_of_diluted_wines</th>\n",
              "      <th>proline</th>\n",
              "    </tr>\n",
              "  </thead>\n",
              "  <tbody>\n",
              "    <tr>\n",
              "      <th>0</th>\n",
              "      <td>13.20</td>\n",
              "      <td>1.78</td>\n",
              "      <td>2.14</td>\n",
              "      <td>11.2</td>\n",
              "      <td>100</td>\n",
              "      <td>2.65</td>\n",
              "      <td>2.76</td>\n",
              "      <td>0.26</td>\n",
              "      <td>1.28</td>\n",
              "      <td>4.38</td>\n",
              "      <td>1.05</td>\n",
              "      <td>3.40</td>\n",
              "      <td>1050</td>\n",
              "    </tr>\n",
              "    <tr>\n",
              "      <th>1</th>\n",
              "      <td>13.16</td>\n",
              "      <td>2.36</td>\n",
              "      <td>2.67</td>\n",
              "      <td>18.6</td>\n",
              "      <td>101</td>\n",
              "      <td>2.80</td>\n",
              "      <td>3.24</td>\n",
              "      <td>0.30</td>\n",
              "      <td>2.81</td>\n",
              "      <td>5.68</td>\n",
              "      <td>1.03</td>\n",
              "      <td>3.17</td>\n",
              "      <td>1185</td>\n",
              "    </tr>\n",
              "    <tr>\n",
              "      <th>2</th>\n",
              "      <td>14.37</td>\n",
              "      <td>1.95</td>\n",
              "      <td>2.50</td>\n",
              "      <td>16.8</td>\n",
              "      <td>113</td>\n",
              "      <td>3.85</td>\n",
              "      <td>3.49</td>\n",
              "      <td>0.24</td>\n",
              "      <td>2.18</td>\n",
              "      <td>7.80</td>\n",
              "      <td>0.86</td>\n",
              "      <td>3.45</td>\n",
              "      <td>1480</td>\n",
              "    </tr>\n",
              "    <tr>\n",
              "      <th>3</th>\n",
              "      <td>13.24</td>\n",
              "      <td>2.59</td>\n",
              "      <td>2.87</td>\n",
              "      <td>21.0</td>\n",
              "      <td>118</td>\n",
              "      <td>2.80</td>\n",
              "      <td>2.69</td>\n",
              "      <td>0.39</td>\n",
              "      <td>1.82</td>\n",
              "      <td>4.32</td>\n",
              "      <td>1.04</td>\n",
              "      <td>2.93</td>\n",
              "      <td>735</td>\n",
              "    </tr>\n",
              "    <tr>\n",
              "      <th>4</th>\n",
              "      <td>14.20</td>\n",
              "      <td>1.76</td>\n",
              "      <td>2.45</td>\n",
              "      <td>15.2</td>\n",
              "      <td>112</td>\n",
              "      <td>3.27</td>\n",
              "      <td>3.39</td>\n",
              "      <td>0.34</td>\n",
              "      <td>1.97</td>\n",
              "      <td>6.75</td>\n",
              "      <td>1.05</td>\n",
              "      <td>2.85</td>\n",
              "      <td>1450</td>\n",
              "    </tr>\n",
              "    <tr>\n",
              "      <th>...</th>\n",
              "      <td>...</td>\n",
              "      <td>...</td>\n",
              "      <td>...</td>\n",
              "      <td>...</td>\n",
              "      <td>...</td>\n",
              "      <td>...</td>\n",
              "      <td>...</td>\n",
              "      <td>...</td>\n",
              "      <td>...</td>\n",
              "      <td>...</td>\n",
              "      <td>...</td>\n",
              "      <td>...</td>\n",
              "      <td>...</td>\n",
              "    </tr>\n",
              "    <tr>\n",
              "      <th>172</th>\n",
              "      <td>13.71</td>\n",
              "      <td>5.65</td>\n",
              "      <td>2.45</td>\n",
              "      <td>20.5</td>\n",
              "      <td>95</td>\n",
              "      <td>1.68</td>\n",
              "      <td>0.61</td>\n",
              "      <td>0.52</td>\n",
              "      <td>1.06</td>\n",
              "      <td>7.70</td>\n",
              "      <td>0.64</td>\n",
              "      <td>1.74</td>\n",
              "      <td>740</td>\n",
              "    </tr>\n",
              "    <tr>\n",
              "      <th>173</th>\n",
              "      <td>13.40</td>\n",
              "      <td>3.91</td>\n",
              "      <td>2.48</td>\n",
              "      <td>23.0</td>\n",
              "      <td>102</td>\n",
              "      <td>1.80</td>\n",
              "      <td>0.75</td>\n",
              "      <td>0.43</td>\n",
              "      <td>1.41</td>\n",
              "      <td>7.30</td>\n",
              "      <td>0.70</td>\n",
              "      <td>1.56</td>\n",
              "      <td>750</td>\n",
              "    </tr>\n",
              "    <tr>\n",
              "      <th>174</th>\n",
              "      <td>13.27</td>\n",
              "      <td>4.28</td>\n",
              "      <td>2.26</td>\n",
              "      <td>20.0</td>\n",
              "      <td>120</td>\n",
              "      <td>1.59</td>\n",
              "      <td>0.69</td>\n",
              "      <td>0.43</td>\n",
              "      <td>1.35</td>\n",
              "      <td>10.20</td>\n",
              "      <td>0.59</td>\n",
              "      <td>1.56</td>\n",
              "      <td>835</td>\n",
              "    </tr>\n",
              "    <tr>\n",
              "      <th>175</th>\n",
              "      <td>13.17</td>\n",
              "      <td>2.59</td>\n",
              "      <td>2.37</td>\n",
              "      <td>20.0</td>\n",
              "      <td>120</td>\n",
              "      <td>1.65</td>\n",
              "      <td>0.68</td>\n",
              "      <td>0.53</td>\n",
              "      <td>1.46</td>\n",
              "      <td>9.30</td>\n",
              "      <td>0.60</td>\n",
              "      <td>1.62</td>\n",
              "      <td>840</td>\n",
              "    </tr>\n",
              "    <tr>\n",
              "      <th>176</th>\n",
              "      <td>14.13</td>\n",
              "      <td>4.10</td>\n",
              "      <td>2.74</td>\n",
              "      <td>24.5</td>\n",
              "      <td>96</td>\n",
              "      <td>2.05</td>\n",
              "      <td>0.76</td>\n",
              "      <td>0.56</td>\n",
              "      <td>1.35</td>\n",
              "      <td>9.20</td>\n",
              "      <td>0.61</td>\n",
              "      <td>1.60</td>\n",
              "      <td>560</td>\n",
              "    </tr>\n",
              "  </tbody>\n",
              "</table>\n",
              "<p>177 rows × 13 columns</p>\n",
              "</div>"
            ],
            "text/plain": [
              "     alcohol  malic_acid   ash  ...   hue  od280/od315_of_diluted_wines  proline\n",
              "0      13.20        1.78  2.14  ...  1.05                          3.40     1050\n",
              "1      13.16        2.36  2.67  ...  1.03                          3.17     1185\n",
              "2      14.37        1.95  2.50  ...  0.86                          3.45     1480\n",
              "3      13.24        2.59  2.87  ...  1.04                          2.93      735\n",
              "4      14.20        1.76  2.45  ...  1.05                          2.85     1450\n",
              "..       ...         ...   ...  ...   ...                           ...      ...\n",
              "172    13.71        5.65  2.45  ...  0.64                          1.74      740\n",
              "173    13.40        3.91  2.48  ...  0.70                          1.56      750\n",
              "174    13.27        4.28  2.26  ...  0.59                          1.56      835\n",
              "175    13.17        2.59  2.37  ...  0.60                          1.62      840\n",
              "176    14.13        4.10  2.74  ...  0.61                          1.60      560\n",
              "\n",
              "[177 rows x 13 columns]"
            ]
          },
          "metadata": {},
          "execution_count": 49
        }
      ]
    },
    {
      "cell_type": "code",
      "metadata": {
        "id": "NIDTCbQMmTS0",
        "colab": {
          "base_uri": "https://localhost:8080/"
        },
        "outputId": "39b07946-a3c6-4d5b-c1d0-deacd1d89739"
      },
      "source": [
        "\n",
        "y_variable = wine_ds.iloc[:,13]\n",
        "y_variable"
      ],
      "execution_count": 50,
      "outputs": [
        {
          "output_type": "execute_result",
          "data": {
            "text/plain": [
              "0      1050\n",
              "1      1185\n",
              "2      1480\n",
              "3       735\n",
              "4      1450\n",
              "       ... \n",
              "172     740\n",
              "173     750\n",
              "174     835\n",
              "175     840\n",
              "176     560\n",
              "Name: proline, Length: 177, dtype: int64"
            ]
          },
          "metadata": {},
          "execution_count": 50
        }
      ]
    },
    {
      "cell_type": "code",
      "metadata": {
        "colab": {
          "base_uri": "https://localhost:8080/"
        },
        "id": "UuePAW1XEHNg",
        "outputId": "d388be80-8201-435f-d2af-7f23eecba92c"
      },
      "source": [
        "wine_ds.shape"
      ],
      "execution_count": 51,
      "outputs": [
        {
          "output_type": "execute_result",
          "data": {
            "text/plain": [
              "(177, 14)"
            ]
          },
          "metadata": {},
          "execution_count": 51
        }
      ]
    },
    {
      "cell_type": "markdown",
      "metadata": {
        "id": "RDAtkVrrnMp7"
      },
      "source": [
        "## **Visualizing the Correlation**"
      ]
    },
    {
      "cell_type": "code",
      "metadata": {
        "id": "2fnue-yRnRIy",
        "colab": {
          "base_uri": "https://localhost:8080/",
          "height": 708
        },
        "outputId": "035f251d-d1bd-4f47-fd0f-f21621ab7713"
      },
      "source": [
        "correlation = wine_ds.corr()\n",
        "plt.figure(figsize=(10,10))\n",
        "sns.heatmap(correlation, vmax=1, square=True,annot=True,cmap='cubehelix')\n",
        "\n",
        "plt.title('Correlation between various fearures of the dataset')"
      ],
      "execution_count": 52,
      "outputs": [
        {
          "output_type": "execute_result",
          "data": {
            "text/plain": [
              "Text(0.5, 1.0, 'Correlation between various fearures of the dataset')"
            ]
          },
          "metadata": {},
          "execution_count": 52
        },
        {
          "output_type": "display_data",
          "data": {
            "image/png": "[encoded data removed]",
            "text/plain": [
              "<Figure size 720x720 with 2 Axes>"
            ]
          },
          "metadata": {
            "needs_background": "light"
          }
        }
      ]
    },
    {
      "cell_type": "markdown",
      "metadata": {
        "id": "awPGnfyMonYf"
      },
      "source": [
        "## **Standarizing**\n",
        "This process shifts the distribution of all the variables in the dataset to a mean of 0 and standard deviation of 1."
      ]
    },
    {
      "cell_type": "code",
      "metadata": {
        "id": "TLvfEmrwomop"
      },
      "source": [
        "# Used the standard scaler method to convert the values into integers between -3 and +3\n",
        "scaler = StandardScaler()\n",
        "transformed_ds = scaler.fit_transform(X_variables)"
      ],
      "execution_count": 53,
      "outputs": []
    },
    {
      "cell_type": "markdown",
      "metadata": {
        "id": "-VbvrY2epoVy"
      },
      "source": [
        "## **Creating Covariance Matrix**"
      ]
    },
    {
      "cell_type": "code",
      "metadata": {
        "id": "vC3fWDmFpyRc",
        "colab": {
          "base_uri": "https://localhost:8080/"
        },
        "outputId": "e5b19eb7-fde3-49b5-faa3-a8cda156ee1c"
      },
      "source": [
        "covariance_matrix = np.cov(transformed_ds.T)\n",
        "print(\"The Covariance Matrix is \\n\", covariance_matrix)"
      ],
      "execution_count": 54,
      "outputs": [
        {
          "output_type": "stream",
          "name": "stdout",
          "text": [
            "The Covariance Matrix is \n",
            " [[ 1.00568182  0.10053095  0.21216306 -0.30507344  0.26021246  0.28615975\n",
            "   0.23144084 -0.15230593  0.12828549  0.5509959  -0.07580325  0.05774296\n",
            "   0.64471003]\n",
            " [ 0.10053095  1.00568182  0.16589228  0.28777352 -0.04932772 -0.33540671\n",
            "  -0.41164981  0.2931568  -0.21921348  0.25147381 -0.56404063 -0.36880324\n",
            "  -0.19058844]\n",
            " [ 0.21216306  0.16589228  1.00568182  0.44923581  0.2887384   0.12890384\n",
            "   0.11473173  0.18841851  0.00812754  0.26011245 -0.07560818  0.00151189\n",
            "   0.22424625]\n",
            " [-0.30507344  0.28777352  0.44923581  1.00568182 -0.07211429 -0.31938703\n",
            "  -0.34889322  0.36143713 -0.19186273  0.02059459 -0.27426812 -0.26970941\n",
            "  -0.43933996]\n",
            " [ 0.26021246 -0.04932772  0.2887384  -0.07211429  1.00568182  0.20938338\n",
            "   0.18816443 -0.25352343  0.2277909   0.20046953  0.05233807  0.04722811\n",
            "   0.38974352]\n",
            " [ 0.28615975 -0.33540671  0.12890384 -0.31938703  0.20938338  1.00568182\n",
            "   0.86895489 -0.45084767  0.61400166 -0.05672183  0.43544754  0.7035412\n",
            "   0.49865642]\n",
            " [ 0.23144084 -0.41164981  0.11473173 -0.34889322  0.18816443  0.86895489\n",
            "   1.00568182 -0.53937316  0.65394863 -0.17540153  0.54629393  0.79084004\n",
            "   0.49397111]\n",
            " [-0.15230593  0.2931568   0.18841851  0.36143713 -0.25352343 -0.45084767\n",
            "  -0.53937316  1.00568182 -0.36533247  0.14098899 -0.26319569 -0.50471089\n",
            "  -0.31064082]\n",
            " [ 0.12828549 -0.21921348  0.00812754 -0.19186273  0.2277909   0.61400166\n",
            "   0.65394863 -0.36533247  1.00568182 -0.0272659   0.29606963  0.51633234\n",
            "   0.32758224]\n",
            " [ 0.5509959   0.25147381  0.26011245  0.02059459  0.20046953 -0.05672183\n",
            "  -0.17540153  0.14098899 -0.0272659   1.00568182 -0.52558486 -0.43821979\n",
            "   0.31742548]\n",
            " [-0.07580325 -0.56404063 -0.07560818 -0.27426812  0.05233807  0.43544754\n",
            "   0.54629393 -0.26319569  0.29606963 -0.52558486  1.00568182  0.57061911\n",
            "   0.23621383]\n",
            " [ 0.05774296 -0.36880324  0.00151189 -0.26970941  0.04722811  0.7035412\n",
            "   0.79084004 -0.50471089  0.51633234 -0.43821979  0.57061911  1.00568182\n",
            "   0.30777012]\n",
            " [ 0.64471003 -0.19058844  0.22424625 -0.43933996  0.38974352  0.49865642\n",
            "   0.49397111 -0.31064082  0.32758224  0.31742548  0.23621383  0.30777012\n",
            "   1.00568182]]\n"
          ]
        }
      ]
    },
    {
      "cell_type": "markdown",
      "metadata": {
        "id": "-mE2y4KCql51"
      },
      "source": [
        "## **Plotting the Covariance between pairs.**"
      ]
    },
    {
      "cell_type": "code",
      "metadata": {
        "id": "YSbJjSGjqZoB",
        "colab": {
          "base_uri": "https://localhost:8080/",
          "height": 487
        },
        "outputId": "7ad9a7c9-3e3f-4a4c-8a23-4c4afcf5107c"
      },
      "source": [
        "plt.figure(figsize=(8,8))\n",
        "sns.heatmap(covariance_matrix, vmax=1, square=True,annot=True,cmap='cubehelix')\n",
        "\n",
        "plt.title('Correlation between different features')\n"
      ],
      "execution_count": 55,
      "outputs": [
        {
          "output_type": "execute_result",
          "data": {
            "text/plain": [
              "Text(0.5, 1.0, 'Correlation between different features')"
            ]
          },
          "metadata": {},
          "execution_count": 55
        },
        {
          "output_type": "display_data",
          "data": {
            "image/png": "[encoded data removed]",
            "text/plain": [
              "<Figure size 576x576 with 2 Axes>"
            ]
          },
          "metadata": {
            "needs_background": "light"
          }
        }
      ]
    },
    {
      "cell_type": "markdown",
      "metadata": {
        "id": "xP1PaNEGrSKm"
      },
      "source": [
        "## **Calculating the Eigen Values and Eigen Vectors.**"
      ]
    },
    {
      "cell_type": "code",
      "metadata": {
        "id": "pUy7WqWora33",
        "colab": {
          "base_uri": "https://localhost:8080/"
        },
        "outputId": "a748d5b4-c7a2-49ca-c2f7-b683ce63b67c"
      },
      "source": [
        "eigen_values, eigen_vectors = np.linalg.eig(covariance_matrix)\n",
        "print('Eigenvectors \\n%s' %eigen_vectors)\n",
        "print('\\nEigenvalues \\n%s' %eigen_values)"
      ],
      "execution_count": 56,
      "outputs": [
        {
          "output_type": "stream",
          "name": "stdout",
          "text": [
            "Eigenvectors \n",
            "[[-0.13788809 -0.48583464 -0.20877489  0.26989127 -0.0011407  -0.21141036\n",
            "  -0.05751996  0.01378744 -0.40108372  0.24221102 -0.48825288  0.27224545\n",
            "   0.21974133]\n",
            " [ 0.24638109 -0.22157478  0.09019328 -0.06287575  0.53313643 -0.53070694\n",
            "   0.43373015  0.02646079 -0.06288444 -0.11060787  0.05064287 -0.11946877\n",
            "  -0.30063337]\n",
            " [ 0.0043183  -0.31528188  0.62374304  0.16036596 -0.20534831 -0.15511547\n",
            "  -0.14513486 -0.14187527  0.17143391  0.04222     0.31451537  0.48509813\n",
            "  -0.11389638]\n",
            " [ 0.23737955  0.01214349  0.61379873 -0.06481078  0.0572236   0.09411101\n",
            "  -0.29042173  0.09233892 -0.42777199  0.06666045 -0.20002174 -0.46359328\n",
            "   0.12325409]\n",
            " [-0.1350017  -0.30028828  0.13573164 -0.7063438  -0.39169387 -0.0385105\n",
            "   0.31843019  0.05515582  0.15196623 -0.07198266 -0.27039812 -0.04908458\n",
            "   0.10540432]\n",
            " [-0.39586939 -0.07054905  0.14462048  0.13330889  0.20259928  0.08301569\n",
            "  -0.02386071 -0.46358085  0.40699033  0.31844113 -0.32109678 -0.3241189\n",
            "  -0.24699637]\n",
            " [-0.42439422 -0.00173207  0.14931754  0.09817784  0.15557524  0.01800015\n",
            "  -0.057734    0.8322826   0.18866249  0.04684042 -0.06412293  0.00935479\n",
            "  -0.15940486]\n",
            " [ 0.29913568 -0.02466918  0.16913634  0.51010843 -0.17533015  0.27265271\n",
            "   0.5881148   0.11367815  0.23146807 -0.04986189 -0.18461499 -0.08279351\n",
            "   0.24537425]\n",
            " [-0.31280321 -0.04144561  0.15060183 -0.16205372  0.39174378  0.53971093\n",
            "   0.36221055 -0.11705315 -0.36817155  0.08527345  0.21994937  0.24975345\n",
            "   0.09093257]\n",
            " [ 0.09328558 -0.52801878 -0.13608317  0.06850459  0.07237106  0.41408828\n",
            "  -0.23434851 -0.01215484  0.03903095 -0.59641956 -0.06814219 -0.08950362\n",
            "  -0.29599807]\n",
            " [-0.29956536  0.27405069  0.08255118  0.19528174 -0.41943139 -0.09978898\n",
            "   0.23722089 -0.08981939 -0.43444538 -0.24823168 -0.11841077 -0.02587593\n",
            "  -0.52434047]\n",
            " [-0.37720252  0.16544914  0.16681112  0.09854303  0.1904646  -0.2670099\n",
            "  -0.04851231 -0.15723517  0.07532322 -0.61426322 -0.08976147  0.00495171\n",
            "   0.51680386]\n",
            " [-0.28428101 -0.3695384  -0.12803431  0.16716868 -0.22362175 -0.1170078\n",
            "   0.08507906  0.01576835 -0.11577125  0.09839189  0.57498153 -0.5252469\n",
            "   0.19372897]]\n",
            "\n",
            "Eigenvalues \n",
            "[4.7043776  2.51557865 1.46158736 0.86663298 0.92969665 0.64851162\n",
            " 0.55511807 0.10454035 0.35273166 0.16933351 0.29082309 0.2267211\n",
            " 0.248211  ]\n"
          ]
        }
      ]
    },
    {
      "cell_type": "markdown",
      "metadata": {
        "id": "L1ObkszFr5WZ"
      },
      "source": [
        "## **Selecting Priciple component:**\n",
        "### Now I have sorted the Eigen Values in descending order. The Eigen Vector with the least Eigen Value will hold the least information about the distribution and can dropped to reduce the dimensionality. "
      ]
    },
    {
      "cell_type": "code",
      "metadata": {
        "id": "RRasEdCnsqAr",
        "colab": {
          "base_uri": "https://localhost:8080/"
        },
        "outputId": "b0d1baaf-db5e-41e0-fb86-e470f8aef6fa"
      },
      "source": [
        "eigen_pairs = [(np.abs(eigen_values[i]), eigen_vectors[:,i]) for i in range(len(eigen_values))]\n",
        "print('Eigenvalues arranged in descending order:')\n",
        "for i in eigen_pairs:\n",
        "    print(i[0])"
      ],
      "execution_count": 57,
      "outputs": [
        {
          "output_type": "stream",
          "name": "stdout",
          "text": [
            "Eigenvalues arranged in descending order:\n",
            "4.704377600172432\n",
            "2.515578647525724\n",
            "1.4615873625971223\n",
            "0.8666329761397848\n",
            "0.9296966527894513\n",
            "0.6485116223474783\n",
            "0.5551180722779729\n",
            "0.10454034702476395\n",
            "0.3527316598887795\n",
            "0.16933350672186823\n",
            "0.29082309174199816\n",
            "0.22672110096297002\n",
            "0.24821099617328518\n"
          ]
        }
      ]
    },
    {
      "cell_type": "markdown",
      "metadata": {
        "id": "o1HrNkc2tHuw"
      },
      "source": [
        "## **Applying PCA**"
      ]
    },
    {
      "cell_type": "code",
      "metadata": {
        "id": "IDHdJFUZtLMM",
        "colab": {
          "base_uri": "https://localhost:8080/"
        },
        "outputId": "ae2db29a-8bd5-438b-8199-a40ba3d9adab"
      },
      "source": [
        "pca = PCA()\n",
        "pca = pca.fit(transformed_ds)\n",
        "pca_explained_variance = pca.explained_variance_ratio_\n",
        "pca_explained_variance"
      ],
      "execution_count": 58,
      "outputs": [
        {
          "output_type": "execute_result",
          "data": {
            "text/plain": [
              "array([0.35983071, 0.1924128 , 0.1117946 , 0.07111109, 0.06628744,\n",
              "       0.04960367, 0.04246014, 0.02697991, 0.02224462, 0.01898528,\n",
              "       0.01734155, 0.01295206, 0.00799613])"
            ]
          },
          "metadata": {},
          "execution_count": 58
        }
      ]
    },
    {
      "cell_type": "markdown",
      "metadata": {
        "id": "BbSNs_Dpt1RJ"
      },
      "source": [
        "## **Plotting variance and Principle Components**"
      ]
    },
    {
      "cell_type": "code",
      "metadata": {
        "colab": {
          "base_uri": "https://localhost:8080/",
          "height": 279
        },
        "id": "8A2soVNVt7XC",
        "outputId": "edffe5e3-98a1-4e8a-dc20-b9cd418046ed"
      },
      "source": [
        "dataframe = pd.DataFrame({'variance':pca.explained_variance_ratio_,\n",
        "             'Principal Component':['PC1','PC2','PC3','PC4', 'PC5','PC6','PC7',\n",
        "                                    'PC8','PC9','PC10','PC11', 'PC12','PC13']})\n",
        "sns.barplot(x='Principal Component',y=\"variance\", \n",
        "           data=dataframe, color=\"b\");"
      ],
      "execution_count": 59,
      "outputs": [
        {
          "output_type": "display_data",
          "data": {
            "image/png": "[encoded data removed]",
            "text/plain": [
              "<Figure size 432x288 with 1 Axes>"
            ]
          },
          "metadata": {
            "needs_background": "light"
          }
        }
      ]
    },
    {
      "cell_type": "markdown",
      "metadata": {
        "id": "QxLHHqWBwLOh"
      },
      "source": [
        "### The above bar graph shows that the first 2 variables holds the maximum information about the distribution as compared to the rest of the variables."
      ]
    },
    {
      "cell_type": "code",
      "metadata": {
        "colab": {
          "base_uri": "https://localhost:8080/",
          "height": 296
        },
        "id": "W_NUlEFZu0l8",
        "outputId": "2618ef42-774d-4d5c-a23d-afbb3a75d94c"
      },
      "source": [
        "plt.plot(np.cumsum(pca.explained_variance_ratio_))\n",
        "plt.xlim(0,16,1)\n",
        "plt.xlabel('Number of components')\n",
        "plt.ylabel('Cumulative explained variance')"
      ],
      "execution_count": 60,
      "outputs": [
        {
          "output_type": "execute_result",
          "data": {
            "text/plain": [
              "Text(0, 0.5, 'Cumulative explained variance')"
            ]
          },
          "metadata": {},
          "execution_count": 60
        },
        {
          "output_type": "display_data",
          "data": {
            "image/png": "[encoded data removed]",
            "text/plain": [
              "<Figure size 432x288 with 1 Axes>"
            ]
          },
          "metadata": {
            "needs_background": "light"
          }
        }
      ]
    },
    {
      "cell_type": "markdown",
      "metadata": {
        "id": "yXLqFxO2wgJb"
      },
      "source": [
        "### From the above graph its clear that, 90% variance is covered till the 12th variable and hence we can drop the last features."
      ]
    },
    {
      "cell_type": "code",
      "metadata": {
        "colab": {
          "base_uri": "https://localhost:8080/",
          "height": 391
        },
        "id": "0rFcQN5cw9mn",
        "outputId": "893e6ad7-291f-41ee-b506-5a8d5b96d476"
      },
      "source": [
        "pca_2 = PCA(n_components = 2 )\n",
        "pca_2 = pca_2.fit(transformed_ds)\n",
        "pca_2d = pca_2.transform(X_variables)\n",
        "plt.figure(figsize=(8,6))\n",
        "wine_ds['class'] = wine_ds['class'].replace({0:0, 1:1})\n",
        "\n",
        "# Plotting the graph between the 2 principle component against the class variable \n",
        "plt.figure(figsize=(8,6))\n",
        "plt.scatter(pca_2d[:,0], pca_2d[:,1],c=wine_ds['class'])\n",
        "plt.show()"
      ],
      "execution_count": 61,
      "outputs": [
        {
          "output_type": "display_data",
          "data": {
            "text/plain": [
              "<Figure size 576x432 with 0 Axes>"
            ]
          },
          "metadata": {}
        },
        {
          "output_type": "display_data",
          "data": {
            "image/png": "[encoded data removed]",
            "text/plain": [
              "<Figure size 576x432 with 1 Axes>"
            ]
          },
          "metadata": {
            "needs_background": "light"
          }
        }
      ]
    },
    {
      "cell_type": "markdown",
      "metadata": {
        "id": "SRByrVXPGH_v"
      },
      "source": [
        "In the above graph the data points are plotted in 2-dimensional space and the points are clustered based on the class variable."
      ]
    },
    {
      "cell_type": "code",
      "metadata": {
        "colab": {
          "base_uri": "https://localhost:8080/",
          "height": 205
        },
        "id": "1eyR9k8U3ggq",
        "outputId": "437bb0e7-e238-4711-a4d4-be8b7aeb46d1"
      },
      "source": [
        "# Creating a dataframe featuring the two Principal components that we acquired through PCA.\n",
        "PCA_dataset1 = pd.DataFrame(data = pca_2d, columns = ['component1', 'component2'] )\n",
        "PCA_dataset1.head()"
      ],
      "execution_count": 62,
      "outputs": [
        {
          "output_type": "execute_result",
          "data": {
            "text/html": [
              "<div>\n",
              "<style scoped>\n",
              "    .dataframe tbody tr th:only-of-type {\n",
              "        vertical-align: middle;\n",
              "    }\n",
              "\n",
              "    .dataframe tbody tr th {\n",
              "        vertical-align: top;\n",
              "    }\n",
              "\n",
              "    .dataframe thead th {\n",
              "        text-align: right;\n",
              "    }\n",
              "</style>\n",
              "<table border=\"1\" class=\"dataframe\">\n",
              "  <thead>\n",
              "    <tr style=\"text-align: right;\">\n",
              "      <th></th>\n",
              "      <th>component1</th>\n",
              "      <th>component2</th>\n",
              "    </tr>\n",
              "  </thead>\n",
              "  <tbody>\n",
              "    <tr>\n",
              "      <th>0</th>\n",
              "      <td>314.440340</td>\n",
              "      <td>-427.103904</td>\n",
              "    </tr>\n",
              "    <tr>\n",
              "      <th>1</th>\n",
              "      <td>351.561659</td>\n",
              "      <td>-478.283964</td>\n",
              "    </tr>\n",
              "    <tr>\n",
              "      <th>2</th>\n",
              "      <td>437.940024</td>\n",
              "      <td>-592.533107</td>\n",
              "    </tr>\n",
              "    <tr>\n",
              "      <th>3</th>\n",
              "      <td>224.783342</td>\n",
              "      <td>-316.499425</td>\n",
              "    </tr>\n",
              "    <tr>\n",
              "      <th>4</th>\n",
              "      <td>429.240887</td>\n",
              "      <td>-580.471093</td>\n",
              "    </tr>\n",
              "  </tbody>\n",
              "</table>\n",
              "</div>"
            ],
            "text/plain": [
              "   component1  component2\n",
              "0  314.440340 -427.103904\n",
              "1  351.561659 -478.283964\n",
              "2  437.940024 -592.533107\n",
              "3  224.783342 -316.499425\n",
              "4  429.240887 -580.471093"
            ]
          },
          "metadata": {},
          "execution_count": 62
        }
      ]
    },
    {
      "cell_type": "code",
      "metadata": {
        "id": "WWksyoqF3pO3"
      },
      "source": [
        "# Extracting the two features from above in order to add them to the dataframe.\n",
        "principal_component1 = PCA_dataset1['component1']\n",
        "principal_component2 = PCA_dataset1['component2']"
      ],
      "execution_count": 63,
      "outputs": []
    },
    {
      "cell_type": "code",
      "metadata": {
        "colab": {
          "base_uri": "https://localhost:8080/",
          "height": 655
        },
        "id": "Z5u-cBgU3trs",
        "outputId": "c1e6c490-2e2c-491e-8d65-cd49a829b479"
      },
      "source": [
        "# Visualizing the effects of the Principal Component Analysis.\n",
        "plt.figure()\n",
        "plt.figure(figsize=(10,10))\n",
        "plt.xlabel('Component 1')\n",
        "plt.ylabel('Component 2')\n",
        "plt.title('2 Component PCA')\n",
        "plt.scatter(PCA_dataset1['component1'], PCA_dataset1['component2'])"
      ],
      "execution_count": 64,
      "outputs": [
        {
          "output_type": "execute_result",
          "data": {
            "text/plain": [
              "<matplotlib.collections.PathCollection at 0x7f9739adb7d0>"
            ]
          },
          "metadata": {},
          "execution_count": 64
        },
        {
          "output_type": "display_data",
          "data": {
            "text/plain": [
              "<Figure size 432x288 with 0 Axes>"
            ]
          },
          "metadata": {}
        },
        {
          "output_type": "display_data",
          "data": {
            "image/png": "[encoded data removed]",
            "text/plain": [
              "<Figure size 720x720 with 1 Axes>"
            ]
          },
          "metadata": {
            "needs_background": "light"
          }
        }
      ]
    },
    {
      "cell_type": "code",
      "metadata": {
        "colab": {
          "base_uri": "https://localhost:8080/"
        },
        "id": "D2jZyXy4IpiR",
        "outputId": "ddab9c66-47b7-4f68-cda6-dfcfcbddc135"
      },
      "source": [
        "pca_2d.shape"
      ],
      "execution_count": 65,
      "outputs": [
        {
          "output_type": "execute_result",
          "data": {
            "text/plain": [
              "(177, 2)"
            ]
          },
          "metadata": {},
          "execution_count": 65
        }
      ]
    },
    {
      "cell_type": "markdown",
      "metadata": {
        "id": "aOs5B4YwGdMK"
      },
      "source": [
        "From the above shape its clear that the dimensions are reduced to 2-dimension for this dataset."
      ]
    },
    {
      "cell_type": "markdown",
      "metadata": {
        "id": "lvLkihlcGhzt"
      },
      "source": [
        "# **2.Dimensionality Reduction using SVD**"
      ]
    },
    {
      "cell_type": "markdown",
      "metadata": {
        "id": "wN7epYgSZsqp"
      },
      "source": [
        "SVD is also a linear dimensionality reduction technique.\n",
        "Very similar to PCA, but it doesn't center the data before computing the singular value decomposition. This means it can work with sparse matrices efficiently."
      ]
    },
    {
      "cell_type": "code",
      "metadata": {
        "colab": {
          "base_uri": "https://localhost:8080/",
          "height": 225
        },
        "id": "WNuCZ4Y4GqH9",
        "outputId": "a58265db-53da-49f7-c0fa-1e866dacab59"
      },
      "source": [
        "from sklearn.preprocessing import LabelEncoder, StandardScaler\n",
        "\n",
        "# Using the same dataset \n",
        "# Prints top 10 rows of dataset\n",
        "wine_ds.head()"
      ],
      "execution_count": 66,
      "outputs": [
        {
          "output_type": "execute_result",
          "data": {
            "text/html": [
              "<div>\n",
              "<style scoped>\n",
              "    .dataframe tbody tr th:only-of-type {\n",
              "        vertical-align: middle;\n",
              "    }\n",
              "\n",
              "    .dataframe tbody tr th {\n",
              "        vertical-align: top;\n",
              "    }\n",
              "\n",
              "    .dataframe thead th {\n",
              "        text-align: right;\n",
              "    }\n",
              "</style>\n",
              "<table border=\"1\" class=\"dataframe\">\n",
              "  <thead>\n",
              "    <tr style=\"text-align: right;\">\n",
              "      <th></th>\n",
              "      <th>class</th>\n",
              "      <th>alcohol</th>\n",
              "      <th>malic_acid</th>\n",
              "      <th>ash</th>\n",
              "      <th>alcalinity_of_ash</th>\n",
              "      <th>magnesium</th>\n",
              "      <th>total_phenols</th>\n",
              "      <th>flavanoids</th>\n",
              "      <th>nonflavanoid_phenols</th>\n",
              "      <th>proanthocyanins</th>\n",
              "      <th>color_intensity</th>\n",
              "      <th>hue</th>\n",
              "      <th>od280/od315_of_diluted_wines</th>\n",
              "      <th>proline</th>\n",
              "    </tr>\n",
              "  </thead>\n",
              "  <tbody>\n",
              "    <tr>\n",
              "      <th>0</th>\n",
              "      <td>1</td>\n",
              "      <td>13.20</td>\n",
              "      <td>1.78</td>\n",
              "      <td>2.14</td>\n",
              "      <td>11.2</td>\n",
              "      <td>100</td>\n",
              "      <td>2.65</td>\n",
              "      <td>2.76</td>\n",
              "      <td>0.26</td>\n",
              "      <td>1.28</td>\n",
              "      <td>4.38</td>\n",
              "      <td>1.05</td>\n",
              "      <td>3.40</td>\n",
              "      <td>1050</td>\n",
              "    </tr>\n",
              "    <tr>\n",
              "      <th>1</th>\n",
              "      <td>1</td>\n",
              "      <td>13.16</td>\n",
              "      <td>2.36</td>\n",
              "      <td>2.67</td>\n",
              "      <td>18.6</td>\n",
              "      <td>101</td>\n",
              "      <td>2.80</td>\n",
              "      <td>3.24</td>\n",
              "      <td>0.30</td>\n",
              "      <td>2.81</td>\n",
              "      <td>5.68</td>\n",
              "      <td>1.03</td>\n",
              "      <td>3.17</td>\n",
              "      <td>1185</td>\n",
              "    </tr>\n",
              "    <tr>\n",
              "      <th>2</th>\n",
              "      <td>1</td>\n",
              "      <td>14.37</td>\n",
              "      <td>1.95</td>\n",
              "      <td>2.50</td>\n",
              "      <td>16.8</td>\n",
              "      <td>113</td>\n",
              "      <td>3.85</td>\n",
              "      <td>3.49</td>\n",
              "      <td>0.24</td>\n",
              "      <td>2.18</td>\n",
              "      <td>7.80</td>\n",
              "      <td>0.86</td>\n",
              "      <td>3.45</td>\n",
              "      <td>1480</td>\n",
              "    </tr>\n",
              "    <tr>\n",
              "      <th>3</th>\n",
              "      <td>1</td>\n",
              "      <td>13.24</td>\n",
              "      <td>2.59</td>\n",
              "      <td>2.87</td>\n",
              "      <td>21.0</td>\n",
              "      <td>118</td>\n",
              "      <td>2.80</td>\n",
              "      <td>2.69</td>\n",
              "      <td>0.39</td>\n",
              "      <td>1.82</td>\n",
              "      <td>4.32</td>\n",
              "      <td>1.04</td>\n",
              "      <td>2.93</td>\n",
              "      <td>735</td>\n",
              "    </tr>\n",
              "    <tr>\n",
              "      <th>4</th>\n",
              "      <td>1</td>\n",
              "      <td>14.20</td>\n",
              "      <td>1.76</td>\n",
              "      <td>2.45</td>\n",
              "      <td>15.2</td>\n",
              "      <td>112</td>\n",
              "      <td>3.27</td>\n",
              "      <td>3.39</td>\n",
              "      <td>0.34</td>\n",
              "      <td>1.97</td>\n",
              "      <td>6.75</td>\n",
              "      <td>1.05</td>\n",
              "      <td>2.85</td>\n",
              "      <td>1450</td>\n",
              "    </tr>\n",
              "  </tbody>\n",
              "</table>\n",
              "</div>"
            ],
            "text/plain": [
              "   class  alcohol  malic_acid  ...   hue  od280/od315_of_diluted_wines  proline\n",
              "0      1    13.20        1.78  ...  1.05                          3.40     1050\n",
              "1      1    13.16        2.36  ...  1.03                          3.17     1185\n",
              "2      1    14.37        1.95  ...  0.86                          3.45     1480\n",
              "3      1    13.24        2.59  ...  1.04                          2.93      735\n",
              "4      1    14.20        1.76  ...  1.05                          2.85     1450\n",
              "\n",
              "[5 rows x 14 columns]"
            ]
          },
          "metadata": {},
          "execution_count": 66
        }
      ]
    },
    {
      "cell_type": "code",
      "metadata": {
        "colab": {
          "base_uri": "https://localhost:8080/"
        },
        "id": "mRbBxB5ANIp2",
        "outputId": "f7294d5b-f977-4377-e19f-927ff3d0d18a"
      },
      "source": [
        "wine_ds.shape"
      ],
      "execution_count": 67,
      "outputs": [
        {
          "output_type": "execute_result",
          "data": {
            "text/plain": [
              "(177, 14)"
            ]
          },
          "metadata": {},
          "execution_count": 67
        }
      ]
    },
    {
      "cell_type": "markdown",
      "metadata": {
        "id": "Bu_aWDv96aIG"
      },
      "source": [
        "### Here I have invoked LabelEncoder and applied it to all the columns in the dataset. This will convert all categorical columns into numerical columns using one-hot encoding technique."
      ]
    },
    {
      "cell_type": "code",
      "metadata": {
        "id": "iZPfsxzDNkb2"
      },
      "source": [
        "encoder = LabelEncoder()\n",
        "for col in wine_ds.columns:\n",
        "    wine_ds[col] = encoder.fit_transform(wine_ds[col])"
      ],
      "execution_count": 68,
      "outputs": []
    },
    {
      "cell_type": "markdown",
      "metadata": {
        "id": "de5YvvKp7A7K"
      },
      "source": [
        "### Now I have checked the converted numerical columns in dataset"
      ]
    },
    {
      "cell_type": "code",
      "metadata": {
        "id": "x4Igj49X69kl",
        "colab": {
          "base_uri": "https://localhost:8080/",
          "height": 225
        },
        "outputId": "0a6a157e-33e7-4f25-f331-ba4148f62061"
      },
      "source": [
        "wine_ds.head()"
      ],
      "execution_count": 69,
      "outputs": [
        {
          "output_type": "execute_result",
          "data": {
            "text/html": [
              "<div>\n",
              "<style scoped>\n",
              "    .dataframe tbody tr th:only-of-type {\n",
              "        vertical-align: middle;\n",
              "    }\n",
              "\n",
              "    .dataframe tbody tr th {\n",
              "        vertical-align: top;\n",
              "    }\n",
              "\n",
              "    .dataframe thead th {\n",
              "        text-align: right;\n",
              "    }\n",
              "</style>\n",
              "<table border=\"1\" class=\"dataframe\">\n",
              "  <thead>\n",
              "    <tr style=\"text-align: right;\">\n",
              "      <th></th>\n",
              "      <th>class</th>\n",
              "      <th>alcohol</th>\n",
              "      <th>malic_acid</th>\n",
              "      <th>ash</th>\n",
              "      <th>alcalinity_of_ash</th>\n",
              "      <th>magnesium</th>\n",
              "      <th>total_phenols</th>\n",
              "      <th>flavanoids</th>\n",
              "      <th>nonflavanoid_phenols</th>\n",
              "      <th>proanthocyanins</th>\n",
              "      <th>color_intensity</th>\n",
              "      <th>hue</th>\n",
              "      <th>od280/od315_of_diluted_wines</th>\n",
              "      <th>proline</th>\n",
              "    </tr>\n",
              "  </thead>\n",
              "  <tbody>\n",
              "    <tr>\n",
              "      <th>0</th>\n",
              "      <td>0</td>\n",
              "      <td>65</td>\n",
              "      <td>49</td>\n",
              "      <td>18</td>\n",
              "      <td>1</td>\n",
              "      <td>21</td>\n",
              "      <td>68</td>\n",
              "      <td>91</td>\n",
              "      <td>9</td>\n",
              "      <td>31</td>\n",
              "      <td>56</td>\n",
              "      <td>50</td>\n",
              "      <td>102</td>\n",
              "      <td>92</td>\n",
              "    </tr>\n",
              "    <tr>\n",
              "      <th>1</th>\n",
              "      <td>0</td>\n",
              "      <td>63</td>\n",
              "      <td>71</td>\n",
              "      <td>62</td>\n",
              "      <td>31</td>\n",
              "      <td>22</td>\n",
              "      <td>73</td>\n",
              "      <td>114</td>\n",
              "      <td>13</td>\n",
              "      <td>96</td>\n",
              "      <td>82</td>\n",
              "      <td>48</td>\n",
              "      <td>86</td>\n",
              "      <td>101</td>\n",
              "    </tr>\n",
              "    <tr>\n",
              "      <th>2</th>\n",
              "      <td>0</td>\n",
              "      <td>120</td>\n",
              "      <td>59</td>\n",
              "      <td>48</td>\n",
              "      <td>20</td>\n",
              "      <td>33</td>\n",
              "      <td>95</td>\n",
              "      <td>121</td>\n",
              "      <td>7</td>\n",
              "      <td>84</td>\n",
              "      <td>108</td>\n",
              "      <td>30</td>\n",
              "      <td>104</td>\n",
              "      <td>116</td>\n",
              "    </tr>\n",
              "    <tr>\n",
              "      <th>3</th>\n",
              "      <td>0</td>\n",
              "      <td>67</td>\n",
              "      <td>81</td>\n",
              "      <td>74</td>\n",
              "      <td>44</td>\n",
              "      <td>37</td>\n",
              "      <td>73</td>\n",
              "      <td>89</td>\n",
              "      <td>20</td>\n",
              "      <td>66</td>\n",
              "      <td>53</td>\n",
              "      <td>49</td>\n",
              "      <td>73</td>\n",
              "      <td>66</td>\n",
              "    </tr>\n",
              "    <tr>\n",
              "      <th>4</th>\n",
              "      <td>0</td>\n",
              "      <td>115</td>\n",
              "      <td>47</td>\n",
              "      <td>45</td>\n",
              "      <td>10</td>\n",
              "      <td>32</td>\n",
              "      <td>89</td>\n",
              "      <td>119</td>\n",
              "      <td>17</td>\n",
              "      <td>75</td>\n",
              "      <td>96</td>\n",
              "      <td>50</td>\n",
              "      <td>68</td>\n",
              "      <td>115</td>\n",
              "    </tr>\n",
              "  </tbody>\n",
              "</table>\n",
              "</div>"
            ],
            "text/plain": [
              "   class  alcohol  malic_acid  ...  hue  od280/od315_of_diluted_wines  proline\n",
              "0      0       65          49  ...   50                           102       92\n",
              "1      0       63          71  ...   48                            86      101\n",
              "2      0      120          59  ...   30                           104      116\n",
              "3      0       67          81  ...   49                            73       66\n",
              "4      0      115          47  ...   50                            68      115\n",
              "\n",
              "[5 rows x 14 columns]"
            ]
          },
          "metadata": {},
          "execution_count": 69
        }
      ]
    },
    {
      "cell_type": "markdown",
      "metadata": {
        "id": "2SZpIXnl7RKA"
      },
      "source": [
        "### Here I have divided the dataset into X-variable and Y-variable and then normalized both."
      ]
    },
    {
      "cell_type": "code",
      "metadata": {
        "id": "JwDwXtbNN5Gz"
      },
      "source": [
        "X_variables = wine_ds.iloc[:,1:10]\n",
        "y_label = wine_ds.iloc[:, 0]"
      ],
      "execution_count": 70,
      "outputs": []
    },
    {
      "cell_type": "code",
      "metadata": {
        "id": "7dg0a275N8o2"
      },
      "source": [
        "scaler = StandardScaler()\n",
        "X_features = scaler.fit_transform(X_variables)"
      ],
      "execution_count": 71,
      "outputs": []
    },
    {
      "cell_type": "markdown",
      "metadata": {
        "id": "Z8V2RHFD7r9v"
      },
      "source": [
        "### Applied SVD, here u and v are singular vectors and s is singular value."
      ]
    },
    {
      "cell_type": "code",
      "metadata": {
        "id": "p_Z-csuQOA5y"
      },
      "source": [
        "u, s, v = np.linalg.svd(X_features, full_matrices=True)"
      ],
      "execution_count": 72,
      "outputs": []
    },
    {
      "cell_type": "code",
      "metadata": {
        "colab": {
          "base_uri": "https://localhost:8080/"
        },
        "id": "-mV_1btEOENT",
        "outputId": "adf1a38a-09ca-4068-bd4c-7845c40b10db"
      },
      "source": [
        "u.shape"
      ],
      "execution_count": 73,
      "outputs": [
        {
          "output_type": "execute_result",
          "data": {
            "text/plain": [
              "(177, 177)"
            ]
          },
          "metadata": {},
          "execution_count": 73
        }
      ]
    },
    {
      "cell_type": "code",
      "metadata": {
        "colab": {
          "base_uri": "https://localhost:8080/"
        },
        "id": "8cXNpeXrOM01",
        "outputId": "92883045-98e9-42d5-d87f-d37d44a0177d"
      },
      "source": [
        "s.shape"
      ],
      "execution_count": 74,
      "outputs": [
        {
          "output_type": "execute_result",
          "data": {
            "text/plain": [
              "(9,)"
            ]
          },
          "metadata": {},
          "execution_count": 74
        }
      ]
    },
    {
      "cell_type": "code",
      "metadata": {
        "colab": {
          "base_uri": "https://localhost:8080/"
        },
        "id": "mmw_C9idOOCd",
        "outputId": "a43f78fd-54c9-4317-a306-4414f22246cc"
      },
      "source": [
        "v.shape"
      ],
      "execution_count": 75,
      "outputs": [
        {
          "output_type": "execute_result",
          "data": {
            "text/plain": [
              "(9, 9)"
            ]
          },
          "metadata": {},
          "execution_count": 75
        }
      ]
    },
    {
      "cell_type": "markdown",
      "metadata": {
        "id": "Z5bForGH8GWL"
      },
      "source": [
        "### Here I have analyzed and plotted the variance explained by each singular vector in a bar graph."
      ]
    },
    {
      "cell_type": "code",
      "metadata": {
        "colab": {
          "base_uri": "https://localhost:8080/",
          "height": 319
        },
        "id": "akZurK8AOfU9",
        "outputId": "75a1b393-2c6c-40fa-8080-af367ce738b4"
      },
      "source": [
        "variance_explained = np.round(s**2/np.sum(s**2), decimals=3)\n",
        "variance_explained\n",
        " \n",
        "sns.barplot(x=list(range(1,len(variance_explained)+1)),\n",
        "            y=variance_explained, color=\"blue\")\n",
        "plt.xlabel('SVs', fontsize=16)\n",
        "plt.ylabel('Percent of the variance explained', fontsize=15)"
      ],
      "execution_count": 76,
      "outputs": [
        {
          "output_type": "execute_result",
          "data": {
            "text/plain": [
              "Text(0, 0.5, 'Percent of the variance explained')"
            ]
          },
          "metadata": {},
          "execution_count": 76
        },
        {
          "output_type": "display_data",
          "data": {
            "image/png": "[encoded data removed]",
            "text/plain": [
              "<Figure size 432x288 with 1 Axes>"
            ]
          },
          "metadata": {
            "needs_background": "light"
          }
        }
      ]
    },
    {
      "cell_type": "markdown",
      "metadata": {
        "id": "SFfpmuDOGurU"
      },
      "source": [
        "This graph explains that first 2-3 singular vectors contribute more towards holding the most information about the dataset."
      ]
    },
    {
      "cell_type": "markdown",
      "metadata": {
        "id": "DKuL1Tas8d0R"
      },
      "source": [
        "### Creating the new dataframe which contains the 2 singular vectors and the metadata."
      ]
    },
    {
      "cell_type": "code",
      "metadata": {
        "colab": {
          "base_uri": "https://localhost:8080/",
          "height": 205
        },
        "id": "4SDSsivfYi6-",
        "outputId": "c9718474-ff81-4f03-d017-93d3cf2948e6"
      },
      "source": [
        "col_labels= ['SV'+str(i) for i in range(1,3)]\n",
        "svd_df = pd.DataFrame(u[:,0:2], index=wine_ds[\"class\"].tolist(), columns=col_labels)\n",
        "svd_df=svd_df.reset_index()\n",
        "svd_df.rename(columns={'index':'Class'}, inplace=True)\n",
        "svd_df.head()"
      ],
      "execution_count": 77,
      "outputs": [
        {
          "output_type": "execute_result",
          "data": {
            "text/html": [
              "<div>\n",
              "<style scoped>\n",
              "    .dataframe tbody tr th:only-of-type {\n",
              "        vertical-align: middle;\n",
              "    }\n",
              "\n",
              "    .dataframe tbody tr th {\n",
              "        vertical-align: top;\n",
              "    }\n",
              "\n",
              "    .dataframe thead th {\n",
              "        text-align: right;\n",
              "    }\n",
              "</style>\n",
              "<table border=\"1\" class=\"dataframe\">\n",
              "  <thead>\n",
              "    <tr style=\"text-align: right;\">\n",
              "      <th></th>\n",
              "      <th>Class</th>\n",
              "      <th>SV1</th>\n",
              "      <th>SV2</th>\n",
              "    </tr>\n",
              "  </thead>\n",
              "  <tbody>\n",
              "    <tr>\n",
              "      <th>0</th>\n",
              "      <td>0</td>\n",
              "      <td>-0.063013</td>\n",
              "      <td>-0.078817</td>\n",
              "    </tr>\n",
              "    <tr>\n",
              "      <th>1</th>\n",
              "      <td>0</td>\n",
              "      <td>-0.079689</td>\n",
              "      <td>0.061589</td>\n",
              "    </tr>\n",
              "    <tr>\n",
              "      <th>2</th>\n",
              "      <td>0</td>\n",
              "      <td>-0.135112</td>\n",
              "      <td>0.072540</td>\n",
              "    </tr>\n",
              "    <tr>\n",
              "      <th>3</th>\n",
              "      <td>0</td>\n",
              "      <td>-0.034945</td>\n",
              "      <td>0.140693</td>\n",
              "    </tr>\n",
              "    <tr>\n",
              "      <th>4</th>\n",
              "      <td>0</td>\n",
              "      <td>-0.119662</td>\n",
              "      <td>0.049405</td>\n",
              "    </tr>\n",
              "  </tbody>\n",
              "</table>\n",
              "</div>"
            ],
            "text/plain": [
              "   Class       SV1       SV2\n",
              "0      0 -0.063013 -0.078817\n",
              "1      0 -0.079689  0.061589\n",
              "2      0 -0.135112  0.072540\n",
              "3      0 -0.034945  0.140693\n",
              "4      0 -0.119662  0.049405"
            ]
          },
          "metadata": {},
          "execution_count": 77
        }
      ]
    },
    {
      "cell_type": "markdown",
      "metadata": {
        "id": "5QM5Mi0L864b"
      },
      "source": [
        "### Plotted the variance explained by both the Singular vector components against the target feature."
      ]
    },
    {
      "cell_type": "code",
      "metadata": {
        "id": "8GhYGKH-1Rwx",
        "colab": {
          "base_uri": "https://localhost:8080/",
          "height": 662
        },
        "outputId": "f8c4449d-05d2-402e-95e4-6a606efabd0f"
      },
      "source": [
        "plt.figure()\n",
        "plt.figure(figsize=(10,10))\n",
        "plt.xlabel('SV1')\n",
        "plt.ylabel('SV2')\n",
        "plt.title('SVD')\n",
        "sns.scatterplot(x=svd_df['SV1'], y=svd_df['SV2'],hue=svd_df[\"Class\"],\n",
        "                palette=[\"blue\",\"red\",\"orange\"])\n",
        "plt.xlabel('SV 1: {0}%'.format(variance_explained[0]*100), fontsize=15)\n",
        "plt.ylabel('SV 2: {0}%'.format(variance_explained[1]*100), fontsize=15)"
      ],
      "execution_count": 78,
      "outputs": [
        {
          "output_type": "execute_result",
          "data": {
            "text/plain": [
              "Text(0, 0.5, 'SV 2: 19.0%')"
            ]
          },
          "metadata": {},
          "execution_count": 78
        },
        {
          "output_type": "display_data",
          "data": {
            "text/plain": [
              "<Figure size 432x288 with 0 Axes>"
            ]
          },
          "metadata": {}
        },
        {
          "output_type": "display_data",
          "data": {
            "image/png": "[encoded data removed]",
            "text/plain": [
              "<Figure size 720x720 with 1 Axes>"
            ]
          },
          "metadata": {
            "needs_background": "light"
          }
        }
      ]
    },
    {
      "cell_type": "markdown",
      "metadata": {
        "id": "dcbF2iyIHDOt"
      },
      "source": [
        "The above plot shows the contribution of the explained variance for both the Singular vector components and is plotted against the class variable in 2-dimensional plane. In this the points with same class variables are marked with same colors."
      ]
    },
    {
      "cell_type": "markdown",
      "metadata": {
        "id": "OHp4rsrWG1KC"
      },
      "source": [
        "# **3. Dimensionality Reduction Using LLE**"
      ]
    },
    {
      "cell_type": "markdown",
      "metadata": {
        "id": "UC_Ulkq2G_65"
      },
      "source": [
        "### LLE is an unsupervised and non-linear dimensionality reduction technique that creates an embedding of the dataset and tries to preserve the relationships between neighborhoods in the dataset.\n",
        "\n",
        "LLE can be thought of as a series of local PCAs that are globally compared to find the best non-linear embedding.\n",
        "When the data is intrinsically very high dimensional—it can't be described linearly with just a few components.\n",
        "\n",
        "When this is the case, nonlinear manifold embeddings like LLE and Isomap can be helpful.\n",
        "### I have used the same Wine dataset for LLE"
      ]
    },
    {
      "cell_type": "code",
      "metadata": {
        "colab": {
          "base_uri": "https://localhost:8080/",
          "height": 269
        },
        "id": "nmZxUaHNG8uq",
        "outputId": "47a517d1-7a96-4c40-9387-7df3de436974"
      },
      "source": [
        "from sklearn.manifold import LocallyLinearEmbedding\n",
        "# here I have set the number of components to be derived as 2 \n",
        "lle= LocallyLinearEmbedding(n_neighbors=5, n_components=2)\n",
        "X_transformed=lle.fit_transform(wine_ds)\n",
        "\n",
        "# plotting the datapoints in 2-dimensional space\n",
        "fig, ax = plt.subplots()\n",
        "colorize = dict(c=X_transformed[:, 0], cmap=plt.cm.get_cmap('rainbow', 5))\n",
        "ax.scatter(X_transformed[:, 0], X_transformed[:, 1], **colorize)\n",
        "ax.set_ylim(0.15, -0.15);"
      ],
      "execution_count": 79,
      "outputs": [
        {
          "output_type": "display_data",
          "data": {
            "image/png": "[encoded data removed]",
            "text/plain": [
              "<Figure size 432x288 with 1 Axes>"
            ]
          },
          "metadata": {
            "needs_background": "light"
          }
        }
      ]
    },
    {
      "cell_type": "markdown",
      "metadata": {
        "id": "ZVDPkuUdPUmJ"
      },
      "source": [
        "# **4. Dimensionality reduction T-SNE Technique**"
      ]
    },
    {
      "cell_type": "markdown",
      "metadata": {
        "id": "4zYY-uVvYK7O"
      },
      "source": [
        "T-Distributed Stochastic Neighbor Embedding (t-SNE) is a non-linear dimensional reduction algorithm used for exploring high-dimensional data. t-SNE maps maps multi-dimensional data to two or more dimensions that are suitable for human observation.\n",
        "PCA and T-SNE are different since PCA is a linear dimension reduction technique that seeks to maximize variance and preserves large pairwise distances. In other words, things that are different end up far apart. This can lead to poor visualization especially when dealing with non-linear manifold structures. Manifold structure has any geometric shape like: cylinder, ball, curve, etc.\n",
        "\n",
        "t-SNE differs from PCA by preserving only small pairwise distances or local similarities whereas PCA is concerned with preserving large pairwise distances to maximize variance."
      ]
    },
    {
      "cell_type": "code",
      "metadata": {
        "colab": {
          "base_uri": "https://localhost:8080/"
        },
        "id": "IQrIGJUGPk6p",
        "outputId": "b8b3e219-7b67-4ac3-fa44-07cef9020a81"
      },
      "source": [
        "# Implementing t-SNE.\n",
        "from sklearn.manifold import TSNE\n",
        "# here I have set the number of components to be derived as 2 \n",
        "# I have used the same wine dataset for this technique and now applying T-SNE\n",
        "tsne = TSNE(n_components=2, verbose=1, perplexity=40, n_iter=300)\n",
        "tsne_results1 = tsne.fit_transform(X_features)"
      ],
      "execution_count": 40,
      "outputs": [
        {
          "output_type": "stream",
          "name": "stdout",
          "text": [
            "[t-SNE] Computing 121 nearest neighbors...\n",
            "[t-SNE] Indexed 177 samples in 0.000s...\n",
            "[t-SNE] Computed neighbors for 177 samples in 0.014s...\n",
            "[t-SNE] Computed conditional probabilities for sample 177 / 177\n",
            "[t-SNE] Mean sigma: 1.594357\n",
            "[t-SNE] KL divergence after 250 iterations with early exaggeration: 57.144791\n",
            "[t-SNE] KL divergence after 300 iterations: 0.532424\n"
          ]
        }
      ]
    },
    {
      "cell_type": "code",
      "metadata": {
        "id": "uIO3-8eLQRbA",
        "colab": {
          "base_uri": "https://localhost:8080/"
        },
        "outputId": "618019ed-c30d-42ce-ee07-8c19f2dac077"
      },
      "source": [
        "tsne_results1"
      ],
      "execution_count": 41,
      "outputs": [
        {
          "output_type": "execute_result",
          "data": {
            "text/plain": [
              "array([[  1.3584874 ,   5.0159817 ],\n",
              "       [ -6.786719  ,   6.07029   ],\n",
              "       [ -9.457825  ,   3.6280434 ],\n",
              "       [ -9.925628  ,   8.189113  ],\n",
              "       [ -8.933654  ,   3.2744112 ],\n",
              "       [ -6.0799212 ,   3.5147226 ],\n",
              "       [ -6.736045  ,   8.319336  ],\n",
              "       [ -6.556342  ,   2.434108  ],\n",
              "       [ -6.751655  ,   2.7008493 ],\n",
              "       [ -8.040364  ,   4.098991  ],\n",
              "       [ -5.0532875 ,   3.5356715 ],\n",
              "       [ -5.4151974 ,   3.9237869 ],\n",
              "       [-10.466207  ,   2.9987807 ],\n",
              "       [ -7.8389826 ,   2.5253887 ],\n",
              "       [ -7.613338  ,   7.0501633 ],\n",
              "       [ -9.368245  ,   7.2841077 ],\n",
              "       [ -8.966831  ,   7.514735  ],\n",
              "       [ -9.425686  ,   3.827018  ],\n",
              "       [-10.237724  ,   1.8564627 ],\n",
              "       [ -8.915769  ,   1.7839949 ],\n",
              "       [ -4.802983  ,   7.2428627 ],\n",
              "       [ -6.166351  ,   3.9928987 ],\n",
              "       [ -4.035582  ,   5.699032  ],\n",
              "       [ -5.5963197 ,   6.6388063 ],\n",
              "       [-10.545082  ,   8.561413  ],\n",
              "       [ -5.464114  ,   5.9148555 ],\n",
              "       [  1.7774417 ,   4.0661864 ],\n",
              "       [ -8.41496   ,   7.786433  ],\n",
              "       [ -5.727402  ,   2.5977497 ],\n",
              "       [ -8.034867  ,   8.714089  ],\n",
              "       [ -7.9274726 ,   5.1945567 ],\n",
              "       [ -6.80093   ,   4.588139  ],\n",
              "       [ -9.167166  ,   8.913696  ],\n",
              "       [ -6.1966753 ,   7.238671  ],\n",
              "       [ -6.946748  ,   5.5412965 ],\n",
              "       [ -7.3083825 ,   7.5189805 ],\n",
              "       [ -4.296502  ,   5.8752766 ],\n",
              "       [  1.8849776 ,   4.510023  ],\n",
              "       [ -9.635244  ,   1.1384089 ],\n",
              "       [ -8.317123  ,   3.139872  ],\n",
              "       [ -1.4342233 ,   5.301621  ],\n",
              "       [ -9.200157  ,   4.3059897 ],\n",
              "       [ -3.435326  ,   7.109722  ],\n",
              "       [ -5.6229033 ,   1.603285  ],\n",
              "       [ -5.947277  ,   8.533317  ],\n",
              "       [ -7.870983  ,   2.0674613 ],\n",
              "       [ -6.639426  ,   1.7973903 ],\n",
              "       [ -7.6312137 ,   4.5698967 ],\n",
              "       [ -7.6832156 ,   3.5510037 ],\n",
              "       [ -4.643466  ,   1.7618449 ],\n",
              "       [ -6.0803347 ,   4.9286814 ],\n",
              "       [ -9.265075  ,   2.9554255 ],\n",
              "       [ -8.112845  ,   6.9936347 ],\n",
              "       [ -7.6681447 ,   1.2210417 ],\n",
              "       [ -8.892824  ,   5.8313274 ],\n",
              "       [ -8.565503  ,   2.260388  ],\n",
              "       [ -7.0590825 ,   6.5726852 ],\n",
              "       [ -9.061927  ,   4.5769024 ],\n",
              "       [ -0.5927564 ,  -0.93084925],\n",
              "       [  7.3473682 ,  -0.5772738 ],\n",
              "       [  7.0072713 ,  -0.21548429],\n",
              "       [  4.2017837 ,   3.446061  ],\n",
              "       [  1.3724338 ,   6.843385  ],\n",
              "       [  3.9050703 ,  -3.8981078 ],\n",
              "       [ -3.1485074 ,   4.671598  ],\n",
              "       [  2.5324988 ,   6.4299364 ],\n",
              "       [  3.351391  ,   2.3180227 ],\n",
              "       [  7.6494217 ,  -0.08924131],\n",
              "       [ -4.1011496 ,  -1.0090466 ],\n",
              "       [  4.6525984 ,  -0.39399382],\n",
              "       [ -7.378068  ,   9.727941  ],\n",
              "       [ -1.3815788 ,  12.374841  ],\n",
              "       [-10.747556  ,   7.085845  ],\n",
              "       [  0.28406164,   6.161431  ],\n",
              "       [  5.086666  ,   1.372695  ],\n",
              "       [  3.232493  ,   4.1257434 ],\n",
              "       [  4.59126   ,  -6.5268307 ],\n",
              "       [ -3.7031898 ,  -0.9207011 ],\n",
              "       [ -2.3288774 ,   7.742297  ],\n",
              "       [  2.7191417 ,   2.397425  ],\n",
              "       [  0.3792926 ,   3.2946434 ],\n",
              "       [  2.338083  ,  -2.1772063 ],\n",
              "       [ 10.667877  , -12.538498  ],\n",
              "       [ -2.8597953 ,   4.1968594 ],\n",
              "       [  2.5243454 ,   3.228211  ],\n",
              "       [  3.4437163 ,  -1.548262  ],\n",
              "       [  2.4084744 ,  -2.945338  ],\n",
              "       [  3.389544  ,  -2.9791653 ],\n",
              "       [  2.4900787 ,  -1.5119559 ],\n",
              "       [  5.036426  ,  -2.4622593 ],\n",
              "       [  4.1501307 ,  -2.1496978 ],\n",
              "       [  5.1867275 ,  -2.1659381 ],\n",
              "       [ -0.42213643,   3.5627542 ],\n",
              "       [  0.12221361,   5.023518  ],\n",
              "       [ -4.3097706 ,   9.943983  ],\n",
              "       [  2.6525867 , -10.565578  ],\n",
              "       [  2.7298508 ,   4.8697724 ],\n",
              "       [  1.4125874 ,   6.851702  ],\n",
              "       [ -1.5758344 ,   6.9583826 ],\n",
              "       [  1.6021006 ,   3.0115101 ],\n",
              "       [  4.015164  ,   1.7780696 ],\n",
              "       [ -0.753661  ,   1.0717909 ],\n",
              "       [  2.1591322 ,   1.5804629 ],\n",
              "       [  2.0110426 ,   1.7639635 ],\n",
              "       [  6.164969  ,  -3.8672454 ],\n",
              "       [  3.3410394 ,   0.8721619 ],\n",
              "       [  4.5984154 ,  -1.9730433 ],\n",
              "       [  1.9266508 ,   0.811757  ],\n",
              "       [ -2.9062731 ,   4.4745092 ],\n",
              "       [ -1.7125757 ,   3.0876067 ],\n",
              "       [  0.16262493,   1.9802033 ],\n",
              "       [  5.1506786 ,  -5.147709  ],\n",
              "       [  1.5923742 ,  -1.9000564 ],\n",
              "       [  1.5822227 ,  -2.372655  ],\n",
              "       [  1.8576478 ,  -0.43253595],\n",
              "       [  2.8191202 ,   1.4268172 ],\n",
              "       [  3.0357416 ,  -0.04127875],\n",
              "       [  8.090365  ,  -3.5383887 ],\n",
              "       [  0.7183258 ,   2.4425588 ],\n",
              "       [-11.561194  ,   5.1812797 ],\n",
              "       [-11.107985  ,   8.863011  ],\n",
              "       [ -0.25512138,  -6.182593  ],\n",
              "       [ -1.5442507 ,   5.948568  ],\n",
              "       [-12.210429  ,   1.4031156 ],\n",
              "       [  0.65308315,   1.3358614 ],\n",
              "       [  0.536244  ,   0.36621314],\n",
              "       [ -2.2376645 ,  -6.9809976 ],\n",
              "       [  1.2671103 ,  -0.25695264],\n",
              "       [ 11.087024  ,  -5.3520074 ],\n",
              "       [  1.7706884 ,  -8.699502  ],\n",
              "       [  3.8824267 ,  -8.601326  ],\n",
              "       [  3.357008  ,  -8.270261  ],\n",
              "       [  3.4016988 ,  -8.892381  ],\n",
              "       [  6.465577  ,  -1.4158969 ],\n",
              "       [  7.235897  ,  -4.3954997 ],\n",
              "       [  7.7988358 ,  -6.522586  ],\n",
              "       [  8.456843  ,  -6.312076  ],\n",
              "       [  9.5617485 ,  -7.109227  ],\n",
              "       [  7.7239795 ,  -8.118336  ],\n",
              "       [  7.749749  ,  -7.4838214 ],\n",
              "       [  6.751496  ,  -6.5878615 ],\n",
              "       [  8.130345  ,  -8.9977865 ],\n",
              "       [  9.360252  ,  -7.953168  ],\n",
              "       [  4.3489895 ,  -7.705652  ],\n",
              "       [  6.2290964 ,  -7.675431  ],\n",
              "       [ 11.172888  ,  -8.509743  ],\n",
              "       [  8.528848  ,  -7.1042585 ],\n",
              "       [  8.986953  ,  -7.767451  ],\n",
              "       [  4.8776307 ,  -8.855157  ],\n",
              "       [  3.8293889 , -10.474186  ],\n",
              "       [  3.7375968 ,  -9.470734  ],\n",
              "       [  3.496386  , -11.250497  ],\n",
              "       [ 11.070071  ,  -5.4773974 ],\n",
              "       [  5.437115  ,  -0.6750119 ],\n",
              "       [ 10.093143  ,  -6.5241284 ],\n",
              "       [ 10.045669  ,  -8.401249  ],\n",
              "       [  8.468003  ,  -6.385425  ],\n",
              "       [ -6.3595414 ,  -2.0728512 ],\n",
              "       [ -1.731501  ,   9.671119  ],\n",
              "       [  8.930761  ,  -5.8754315 ],\n",
              "       [  7.750011  ,  -9.362558  ],\n",
              "       [  7.3089824 ,  -7.994903  ],\n",
              "       [  5.2852054 ,  -7.570526  ],\n",
              "       [  9.852268  ,  -9.038088  ],\n",
              "       [ 10.50146   ,  -8.018093  ],\n",
              "       [  6.167551  ,  -9.854861  ],\n",
              "       [  7.074801  ,  -6.152581  ],\n",
              "       [  5.948412  , -10.361604  ],\n",
              "       [  4.710606  , -11.076586  ],\n",
              "       [  5.988879  ,  -6.4243484 ],\n",
              "       [  7.012297  ,  -5.60183   ],\n",
              "       [  9.298872  ,  -9.3087    ],\n",
              "       [  9.057774  ,  -8.430092  ],\n",
              "       [  7.160093  ,  -9.283968  ],\n",
              "       [  5.691307  ,  -8.652158  ],\n",
              "       [  6.09081   ,  -9.00856   ],\n",
              "       [  8.643765  , -10.109683  ]], dtype=float32)"
            ]
          },
          "metadata": {},
          "execution_count": 41
        }
      ]
    },
    {
      "cell_type": "code",
      "metadata": {
        "id": "98sXaIr0Qai6",
        "colab": {
          "base_uri": "https://localhost:8080/",
          "height": 205
        },
        "outputId": "d194b5b3-9bb9-4193-a52c-60f5bb0d7dd4"
      },
      "source": [
        "# Creating a dataframe featuring the two principal components that we acquired through t-SNE.\n",
        "tsne_dataset1 = pd.DataFrame(data = tsne_results1, columns = ['component1', 'component2'] )\n",
        "tsne_dataset1.head()"
      ],
      "execution_count": 42,
      "outputs": [
        {
          "output_type": "execute_result",
          "data": {
            "text/html": [
              "<div>\n",
              "<style scoped>\n",
              "    .dataframe tbody tr th:only-of-type {\n",
              "        vertical-align: middle;\n",
              "    }\n",
              "\n",
              "    .dataframe tbody tr th {\n",
              "        vertical-align: top;\n",
              "    }\n",
              "\n",
              "    .dataframe thead th {\n",
              "        text-align: right;\n",
              "    }\n",
              "</style>\n",
              "<table border=\"1\" class=\"dataframe\">\n",
              "  <thead>\n",
              "    <tr style=\"text-align: right;\">\n",
              "      <th></th>\n",
              "      <th>component1</th>\n",
              "      <th>component2</th>\n",
              "    </tr>\n",
              "  </thead>\n",
              "  <tbody>\n",
              "    <tr>\n",
              "      <th>0</th>\n",
              "      <td>1.358487</td>\n",
              "      <td>5.015982</td>\n",
              "    </tr>\n",
              "    <tr>\n",
              "      <th>1</th>\n",
              "      <td>-6.786719</td>\n",
              "      <td>6.070290</td>\n",
              "    </tr>\n",
              "    <tr>\n",
              "      <th>2</th>\n",
              "      <td>-9.457825</td>\n",
              "      <td>3.628043</td>\n",
              "    </tr>\n",
              "    <tr>\n",
              "      <th>3</th>\n",
              "      <td>-9.925628</td>\n",
              "      <td>8.189113</td>\n",
              "    </tr>\n",
              "    <tr>\n",
              "      <th>4</th>\n",
              "      <td>-8.933654</td>\n",
              "      <td>3.274411</td>\n",
              "    </tr>\n",
              "  </tbody>\n",
              "</table>\n",
              "</div>"
            ],
            "text/plain": [
              "   component1  component2\n",
              "0    1.358487    5.015982\n",
              "1   -6.786719    6.070290\n",
              "2   -9.457825    3.628043\n",
              "3   -9.925628    8.189113\n",
              "4   -8.933654    3.274411"
            ]
          },
          "metadata": {},
          "execution_count": 42
        }
      ]
    },
    {
      "cell_type": "code",
      "metadata": {
        "id": "OCe11xT4QiYz",
        "colab": {
          "base_uri": "https://localhost:8080/",
          "height": 655
        },
        "outputId": "002da871-ece0-4e65-b307-6ffea5b2f514"
      },
      "source": [
        "# Extracting the two features from above in order to add them to the dataframe.\n",
        "tsne_component1 = tsne_dataset1['component1']\n",
        "tsne_component2 = tsne_dataset1['component2']\n",
        "# Visualizing the effects of the T-distributed Stochastic Neighbour Embedding.\n",
        "plt.figure()\n",
        "plt.figure(figsize=(10,10))\n",
        "plt.xlabel('Component 1')\n",
        "plt.ylabel('Component 2')\n",
        "plt.title('2 Component TSNE')\n",
        "plt.scatter(tsne_component1, tsne_component2)"
      ],
      "execution_count": 43,
      "outputs": [
        {
          "output_type": "execute_result",
          "data": {
            "text/plain": [
              "<matplotlib.collections.PathCollection at 0x7f973bdb69d0>"
            ]
          },
          "metadata": {},
          "execution_count": 43
        },
        {
          "output_type": "display_data",
          "data": {
            "text/plain": [
              "<Figure size 432x288 with 0 Axes>"
            ]
          },
          "metadata": {}
        },
        {
          "output_type": "display_data",
          "data": {
            "image/png": "[encoded data removed]",
            "text/plain": [
              "<Figure size 720x720 with 1 Axes>"
            ]
          },
          "metadata": {
            "needs_background": "light"
          }
        }
      ]
    },
    {
      "cell_type": "markdown",
      "metadata": {
        "id": "e1Qok5QcfzYi"
      },
      "source": [
        "The above result shows that this technique preserves the small pairwise distance or local similarity and hence the information is preserved for high dimensional datasets. As compared to PCA we can see the presence of clusters clearly."
      ]
    },
    {
      "cell_type": "markdown",
      "metadata": {
        "id": "NCHOcn-tiHqN"
      },
      "source": [
        "# **5. Isometric mapping for Dimensionality Reduction**"
      ]
    },
    {
      "cell_type": "markdown",
      "metadata": {
        "id": "pbQtx4n6iV4C"
      },
      "source": [
        "### It is a non linear dimensionality reduction technique. The steps involved in it are as follow\n",
        "1. First the nearest neighbours of each point and create a weighted graph by connecting each point to its nearest neighbour. The nodes in the graph are the data points and the weights are the distance between them.\n",
        "2. Now redefine the distance between the points to be the lenghth of the shortest path between 2 points in the neighbourhood graph.\n",
        "3. Lastly Apply MDS to the newly created distance matrix."
      ]
    },
    {
      "cell_type": "code",
      "metadata": {
        "id": "46J0v7HAiHKM",
        "colab": {
          "base_uri": "https://localhost:8080/"
        },
        "outputId": "bc528927-d204-4266-aee4-6fd3005ea1cd"
      },
      "source": [
        "# Using the same Wine dataset\n",
        "from sklearn import datasets\n",
        "from sklearn import manifold\n",
        "wine = datasets.load_wine()\n",
        "\n",
        "# input features\n",
        "print(wine.feature_names)"
      ],
      "execution_count": 80,
      "outputs": [
        {
          "output_type": "stream",
          "name": "stdout",
          "text": [
            "['alcohol', 'malic_acid', 'ash', 'alcalinity_of_ash', 'magnesium', 'total_phenols', 'flavanoids', 'nonflavanoid_phenols', 'proanthocyanins', 'color_intensity', 'hue', 'od280/od315_of_diluted_wines', 'proline']\n"
          ]
        }
      ]
    },
    {
      "cell_type": "code",
      "metadata": {
        "id": "YajCO1LZTEby",
        "colab": {
          "base_uri": "https://localhost:8080/"
        },
        "outputId": "f887eba7-d289-4877-f01e-6e66ae236957"
      },
      "source": [
        "# output features\n",
        "print(wine.target_names)"
      ],
      "execution_count": 81,
      "outputs": [
        {
          "output_type": "stream",
          "name": "stdout",
          "text": [
            "['class_0' 'class_1' 'class_2']\n"
          ]
        }
      ]
    },
    {
      "cell_type": "markdown",
      "metadata": {
        "id": "j3AzGlPpTgMw"
      },
      "source": [
        "Assigning Input (X) and Output (Y) variables\n",
        "Let's assign the all input variables to X and the output variable (class label) to Y"
      ]
    },
    {
      "cell_type": "code",
      "metadata": {
        "id": "nv-FppAcTRyg"
      },
      "source": [
        "\n",
        "X = wine.data\n",
        "Y = wine.target"
      ],
      "execution_count": 82,
      "outputs": []
    },
    {
      "cell_type": "markdown",
      "metadata": {
        "id": "Jms33Z6OTxKW"
      },
      "source": [
        "Determining the dimensions"
      ]
    },
    {
      "cell_type": "code",
      "metadata": {
        "id": "ALb7QkT4QHXn",
        "colab": {
          "base_uri": "https://localhost:8080/"
        },
        "outputId": "d555e7d6-94fb-44de-c632-557818e94218"
      },
      "source": [
        "X.shape"
      ],
      "execution_count": 83,
      "outputs": [
        {
          "output_type": "execute_result",
          "data": {
            "text/plain": [
              "(178, 13)"
            ]
          },
          "metadata": {},
          "execution_count": 83
        }
      ]
    },
    {
      "cell_type": "code",
      "metadata": {
        "id": "lqpxxgpXbUfs",
        "colab": {
          "base_uri": "https://localhost:8080/"
        },
        "outputId": "4f50412b-b85d-4034-b008-5e755cb68cae"
      },
      "source": [
        "Y.shape"
      ],
      "execution_count": 84,
      "outputs": [
        {
          "output_type": "execute_result",
          "data": {
            "text/plain": [
              "(178,)"
            ]
          },
          "metadata": {},
          "execution_count": 84
        }
      ]
    },
    {
      "cell_type": "code",
      "metadata": {
        "id": "xbl_OdzcO9lX"
      },
      "source": [
        "# Appying ISOMap on the dataset for 2 components, this will result in \n",
        "# a dataset with 2 features.\n",
        "iso_map = manifold.Isomap(n_neighbors=6, n_components=2)\n",
        "iso_map.fit(X)\n",
        "manifold_iso_map_data = iso_map.transform(X)"
      ],
      "execution_count": 85,
      "outputs": []
    },
    {
      "cell_type": "code",
      "metadata": {
        "id": "ZxV0gU3edIdk",
        "colab": {
          "base_uri": "https://localhost:8080/"
        },
        "outputId": "2a426b73-e4f0-41d4-c971-6b6a74e327a7"
      },
      "source": [
        "# Dimensions are reduced from 13 to 2\n",
        "manifold_iso_map_data.shape"
      ],
      "execution_count": 86,
      "outputs": [
        {
          "output_type": "execute_result",
          "data": {
            "text/plain": [
              "(178, 2)"
            ]
          },
          "metadata": {},
          "execution_count": 86
        }
      ]
    },
    {
      "cell_type": "code",
      "metadata": {
        "colab": {
          "base_uri": "https://localhost:8080/",
          "height": 282
        },
        "id": "eUbjGOPKQKzU",
        "outputId": "de2244a2-b8f0-428d-ec82-0807ac9cb1d7"
      },
      "source": [
        "# Plotting the graph against the target variable which is Class of wine in our case\n",
        "fig, ax = plt.subplots()\n",
        "scatter = ax.scatter(manifold_iso_map_data[:,0],manifold_iso_map_data[:,1], c=Y,)\n",
        "# produce a legend with the unique colors from the scatter\n",
        "isomap = ax.legend(*scatter.legend_elements(),loc=\"upper left\", title=\"Classes\")\n",
        "ax.add_artist(isomap)\n"
      ],
      "execution_count": 87,
      "outputs": [
        {
          "output_type": "execute_result",
          "data": {
            "text/plain": [
              "<matplotlib.legend.Legend at 0x7f973996edd0>"
            ]
          },
          "metadata": {},
          "execution_count": 87
        },
        {
          "output_type": "display_data",
          "data": {
            "image/png": "[encoded data removed]",
            "text/plain": [
              "<Figure size 432x288 with 1 Axes>"
            ]
          },
          "metadata": {
            "needs_background": "light"
          }
        }
      ]
    },
    {
      "cell_type": "markdown",
      "metadata": {
        "id": "rvKSAB95-aTV"
      },
      "source": [
        "The above plot shows the data points in 2 dimensional space against the class variable which is Wine class in this dataset. The clustering is done on the basis of the target variable."
      ]
    },
    {
      "cell_type": "markdown",
      "metadata": {
        "id": "23ZKTrNtdgqM"
      },
      "source": [
        "# **6. Uniform Manifold Approximation and Projection (UMAP) for Dimensionality Reduction**"
      ]
    },
    {
      "cell_type": "markdown",
      "metadata": {
        "id": "Op8tDv4yczND"
      },
      "source": [
        "Uniform Manifold Approximation and Projection (UMAP) is a dimensionality reduction technique that can preserve as much of the local, and more of the global data structure as compared to t-SNE, with a shorter runtime."
      ]
    },
    {
      "cell_type": "code",
      "metadata": {
        "id": "o_O2UXire0UP",
        "colab": {
          "base_uri": "https://localhost:8080/"
        },
        "outputId": "d8589fd7-3d6b-47a3-88b1-4897612bfdea"
      },
      "source": [
        "# I have used the same Wine dataset for UMAP\n",
        "# Implementing UMAP.\n",
        "# installing umap package\n",
        "!pip install umap-learn\n"
      ],
      "execution_count": 88,
      "outputs": [
        {
          "output_type": "stream",
          "name": "stdout",
          "text": [
            "Collecting umap-learn\n",
            "  Downloading umap-learn-0.5.2.tar.gz (86 kB)\n",
            "\u001b[K     |████████████████████████████████| 86 kB 2.9 MB/s \n",
            "\u001b[?25hRequirement already satisfied: numpy>=1.17 in /usr/local/lib/python3.7/dist-packages (from umap-learn) (1.19.5)\n",
            "Requirement already satisfied: scikit-learn>=0.22 in /usr/local/lib/python3.7/dist-packages (from umap-learn) (0.22.2.post1)\n",
            "Requirement already satisfied: scipy>=1.0 in /usr/local/lib/python3.7/dist-packages (from umap-learn) (1.4.1)\n",
            "Requirement already satisfied: numba>=0.49 in /usr/local/lib/python3.7/dist-packages (from umap-learn) (0.51.2)\n",
            "Collecting pynndescent>=0.5\n",
            "  Downloading pynndescent-0.5.5.tar.gz (1.1 MB)\n",
            "\u001b[K     |████████████████████████████████| 1.1 MB 17.9 MB/s \n",
            "\u001b[?25hRequirement already satisfied: tqdm in /usr/local/lib/python3.7/dist-packages (from umap-learn) (4.62.3)\n",
            "Requirement already satisfied: llvmlite<0.35,>=0.34.0.dev0 in /usr/local/lib/python3.7/dist-packages (from numba>=0.49->umap-learn) (0.34.0)\n",
            "Requirement already satisfied: setuptools in /usr/local/lib/python3.7/dist-packages (from numba>=0.49->umap-learn) (57.4.0)\n",
            "Requirement already satisfied: joblib>=0.11 in /usr/local/lib/python3.7/dist-packages (from pynndescent>=0.5->umap-learn) (1.1.0)\n",
            "Building wheels for collected packages: umap-learn, pynndescent\n",
            "  Building wheel for umap-learn (setup.py) ... \u001b[?25l\u001b[?25hdone\n",
            "  Created wheel for umap-learn: filename=umap_learn-0.5.2-py3-none-any.whl size=82709 sha256=59c68908084b931f73761e2593d83ce17e5de31af296a788c50ca82bb9504029\n",
            "  Stored in directory: /root/.cache/pip/wheels/84/1b/c6/aaf68a748122632967cef4dffef68224eb16798b6793257d82\n",
            "  Building wheel for pynndescent (setup.py) ... \u001b[?25l\u001b[?25hdone\n",
            "  Created wheel for pynndescent: filename=pynndescent-0.5.5-py3-none-any.whl size=52603 sha256=7aede8071154cc7682f98d4abef585763a0ec6dcd25cf7990d0dd3bc23431840\n",
            "  Stored in directory: /root/.cache/pip/wheels/af/e9/33/04db1436df0757c42fda8ea6796d7a8586e23c85fac355f476\n",
            "Successfully built umap-learn pynndescent\n",
            "Installing collected packages: pynndescent, umap-learn\n",
            "Successfully installed pynndescent-0.5.5 umap-learn-0.5.2\n"
          ]
        }
      ]
    },
    {
      "cell_type": "markdown",
      "metadata": {
        "id": "yetu5oCravig"
      },
      "source": [
        "In the below code:\n",
        "1.   n_neighbors determines the number of neighboring points used.\n",
        "2.   min_dist controls how tightly embedding is allowed. Larger values ensure embedded points are more evenly distributed.\n"
      ]
    },
    {
      "cell_type": "code",
      "metadata": {
        "id": "uwji2CWHlIvP"
      },
      "source": [
        "import umap\n",
        "# This is converting the data into low dimension, here X is wine.data\n",
        "embedding = umap.UMAP(n_components=2,n_neighbors=50,\n",
        "                      min_dist=0.3,\n",
        "                      metric='correlation').fit_transform(X)"
      ],
      "execution_count": 95,
      "outputs": []
    },
    {
      "cell_type": "markdown",
      "metadata": {
        "id": "c6Fpm10zqG6Y"
      },
      "source": [
        "The above embedding is the 2 dimension representation of the dataset."
      ]
    },
    {
      "cell_type": "code",
      "metadata": {
        "id": "AY--i68zm7dq"
      },
      "source": [
        "component1_umap = embedding[:,0]\n",
        "component2_umap = embedding[:,1]"
      ],
      "execution_count": 97,
      "outputs": []
    },
    {
      "cell_type": "code",
      "metadata": {
        "colab": {
          "base_uri": "https://localhost:8080/",
          "height": 547
        },
        "id": "vkl9ZFGWnGIR",
        "outputId": "4cd93d07-6ba9-487e-b1e1-c225a6645054"
      },
      "source": [
        "# Visualized the effects of the Uniform Manifold Approximation and Projection.\n",
        "plt.figure()\n",
        "plt.figure(figsize=(8,8))\n",
        "plt.xlabel('Component 1')\n",
        "plt.ylabel('Component 2')\n",
        "plt.title('2 Component UMAP')\n",
        "plt.scatter(component1_umap, component2_umap)"
      ],
      "execution_count": 98,
      "outputs": [
        {
          "output_type": "execute_result",
          "data": {
            "text/plain": [
              "<matplotlib.collections.PathCollection at 0x7f96c88e8490>"
            ]
          },
          "metadata": {},
          "execution_count": 98
        },
        {
          "output_type": "display_data",
          "data": {
            "text/plain": [
              "<Figure size 432x288 with 0 Axes>"
            ]
          },
          "metadata": {}
        },
        {
          "output_type": "display_data",
          "data": {
            "image/png": "[encoded data removed]",
            "text/plain": [
              "<Figure size 576x576 with 1 Axes>"
            ]
          },
          "metadata": {
            "needs_background": "light"
          }
        }
      ]
    },
    {
      "cell_type": "markdown",
      "metadata": {
        "id": "mVNeiJA2nSU-"
      },
      "source": [
        "The above graph shows the 2 components which are the result of the dimensionality reduction.\n",
        "\n"
      ]
    },
    {
      "cell_type": "code",
      "metadata": {
        "colab": {
          "base_uri": "https://localhost:8080/",
          "height": 281
        },
        "id": "rzYSTLJyn1vm",
        "outputId": "e5ee341a-416e-4f6c-abd5-17c46083ef1d"
      },
      "source": [
        "# Plotting the points in 2-d with respect to target variable which is wine Class\n",
        "plt.scatter(embedding[:,0], embedding[:,1], c=Y)\n",
        "plt.title('UMAP embedding of random colours');"
      ],
      "execution_count": 99,
      "outputs": [
        {
          "output_type": "display_data",
          "data": {
            "image/png": "[encoded data removed]",
            "text/plain": [
              "<Figure size 432x288 with 1 Axes>"
            ]
          },
          "metadata": {
            "needs_background": "light"
          }
        }
      ]
    },
    {
      "cell_type": "markdown",
      "metadata": {
        "id": "EWG6j5w_r56q"
      },
      "source": [
        "In the above graph the data is placed in 2 dimensional space, i-e the points that were close in 4-dimensional space are kept close together. There is very less correlation between the transformed variables. By comparing the results of T-SNE and UMAP its clear that the correlation between components is less in UMAP and also often provide a better big picture view of the data as well as preserving local neighbor relations. UMAP is faster then T-SNE and directly be applied to sparse matrix, this eliminates the need to do any preprocessing steps."
      ]
    },
    {
      "cell_type": "markdown",
      "metadata": {
        "id": "IuEuMsxlgkhU"
      },
      "source": [
        "The conclusion for the above analysis is that\n",
        "UMAP outperformed all the techniques as it is very effective for visualization and its speed is better compared to others.\n",
        "1.   Principal Component Analysis: This is most widely used techniques for dealing with linear data. It divides the data into a set of components which try to explain as much variance as possible.\n",
        "2. ISOMAP: We use this technique when the data is strongly non-linear\n",
        "3. t-SNE: This technique also works well when the data is strongly non-linear. It works extremely well for visualizations as well\n",
        "4. UMAP: This technique works well for high dimensional data. Its run-time is shorter as compared to t-SNE\n",
        "\n"
      ]
    }
  ]
}